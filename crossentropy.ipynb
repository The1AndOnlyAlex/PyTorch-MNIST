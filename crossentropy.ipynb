{
  "nbformat": 4,
  "nbformat_minor": 0,
  "metadata": {
    "colab": {
      "provenance": [],
      "authorship_tag": "ABX9TyNti5itVWA+3oeHeovl6Vqr",
      "include_colab_link": true
    },
    "kernelspec": {
      "name": "python3",
      "display_name": "Python 3"
    },
    "language_info": {
      "name": "python"
    }
  },
  "cells": [
    {
      "cell_type": "markdown",
      "metadata": {
        "id": "view-in-github",
        "colab_type": "text"
      },
      "source": [
        "<a href=\"https://colab.research.google.com/github/The1AndOnlyAlex/PyTorch-MNIST/blob/main/crossentropy.ipynb\" target=\"_parent\"><img src=\"https://colab.research.google.com/assets/colab-badge.svg\" alt=\"Open In Colab\"/></a>"
      ]
    },
    {
      "cell_type": "code",
      "execution_count": 2,
      "metadata": {
        "id": "xx7qAKam72V9"
      },
      "outputs": [],
      "source": [
        "import numpy as np\n",
        "import matplotlib.pyplot as plt\n",
        "import torch\n",
        "#plt.style.use(['science', 'notebook'])"
      ]
    },
    {
      "cell_type": "code",
      "source": [
        "p = np.array([5,1,4,6,2,4])\n",
        "q1 = p\n",
        "q2 = np.array([3,7,1,4,1,6])\n",
        "q3 = np.array([2,5,7,2,1,5])"
      ],
      "metadata": {
        "id": "yWmr4lZ9-uBV"
      },
      "execution_count": 3,
      "outputs": []
    },
    {
      "cell_type": "code",
      "source": [
        "-sum(p*np.log(q1))"
      ],
      "metadata": {
        "id": "7GUCEMAdERWD",
        "colab": {
          "base_uri": "https://localhost:8080/"
        },
        "outputId": "44defedd-3bea-4a09-e0c3-d2a6a0c72b66"
      },
      "execution_count": 4,
      "outputs": [
        {
          "output_type": "execute_result",
          "data": {
            "text/plain": [
              "np.float64(-31.27439562761785)"
            ]
          },
          "metadata": {},
          "execution_count": 4
        }
      ]
    },
    {
      "cell_type": "markdown",
      "source": [
        "# **For Multiple Images**"
      ],
      "metadata": {
        "id": "ZeoYtbFpoimF"
      }
    },
    {
      "cell_type": "code",
      "source": [
        "p = np.zeros((4,10), dtype=int)\n",
        "p[0][4] = 1\n",
        "p[1][2] = 1\n",
        "p[2][8] = 1\n",
        "p[3][6] = 1"
      ],
      "metadata": {
        "id": "k0l0fYfoomYc"
      },
      "execution_count": 5,
      "outputs": []
    },
    {
      "cell_type": "code",
      "source": [
        "p"
      ],
      "metadata": {
        "colab": {
          "base_uri": "https://localhost:8080/"
        },
        "id": "g9XwirHGo1AK",
        "outputId": "27ecb804-e80e-4d05-c2ee-6751b2bd525f"
      },
      "execution_count": 6,
      "outputs": [
        {
          "output_type": "execute_result",
          "data": {
            "text/plain": [
              "array([[0, 0, 0, 0, 1, 0, 0, 0, 0, 0],\n",
              "       [0, 0, 1, 0, 0, 0, 0, 0, 0, 0],\n",
              "       [0, 0, 0, 0, 0, 0, 0, 0, 1, 0],\n",
              "       [0, 0, 0, 0, 0, 0, 1, 0, 0, 0]])"
            ]
          },
          "metadata": {},
          "execution_count": 6
        }
      ]
    },
    {
      "cell_type": "code",
      "source": [
        "# Create probability array of qs:\n",
        "q = np.random.rand(40).reshape(4,10)\n",
        "q = q/np.expand_dims(np.sum(q, axis=1), axis=1)\n",
        "q"
      ],
      "metadata": {
        "colab": {
          "base_uri": "https://localhost:8080/"
        },
        "id": "hEdw-jVbo1hD",
        "outputId": "72c9be7f-c6c5-4060-9c3c-9edd8f4b7d4d"
      },
      "execution_count": 7,
      "outputs": [
        {
          "output_type": "execute_result",
          "data": {
            "text/plain": [
              "array([[0.02867138, 0.16417361, 0.13568417, 0.17043897, 0.05561976,\n",
              "        0.07776933, 0.14792044, 0.15457884, 0.05967904, 0.00546445],\n",
              "       [0.14565902, 0.11292818, 0.06952526, 0.08502471, 0.04936745,\n",
              "        0.15136419, 0.17221032, 0.00860954, 0.04627086, 0.15904047],\n",
              "       [0.09424771, 0.06137336, 0.00484132, 0.18496192, 0.19110248,\n",
              "        0.13560085, 0.00061137, 0.16563315, 0.03325838, 0.12836946],\n",
              "       [0.08455787, 0.08115722, 0.14718134, 0.0698019 , 0.12452692,\n",
              "        0.09795568, 0.09294808, 0.13905002, 0.01912573, 0.14369524]])"
            ]
          },
          "metadata": {},
          "execution_count": 7
        }
      ]
    },
    {
      "cell_type": "code",
      "source": [
        "# Compute H for each term in the sum and then sum together\n",
        "# to get L\n",
        "q[p>0]"
      ],
      "metadata": {
        "colab": {
          "base_uri": "https://localhost:8080/"
        },
        "id": "vR5PvaXvpPxe",
        "outputId": "86d12c7d-88ef-4bd4-9637-b36d639d23fc"
      },
      "execution_count": 8,
      "outputs": [
        {
          "output_type": "execute_result",
          "data": {
            "text/plain": [
              "array([0.05561976, 0.06952526, 0.03325838, 0.09294808])"
            ]
          },
          "metadata": {},
          "execution_count": 8
        }
      ]
    },
    {
      "cell_type": "code",
      "source": [
        "Hs = -np.log(q[p>0])\n",
        "L = sum(Hs)"
      ],
      "metadata": {
        "id": "8F3oab-IqYtl"
      },
      "execution_count": 9,
      "outputs": []
    },
    {
      "cell_type": "code",
      "source": [
        "Hs"
      ],
      "metadata": {
        "colab": {
          "base_uri": "https://localhost:8080/"
        },
        "id": "rp7pdbCtqzV9",
        "outputId": "d9f06683-ecdf-47d3-a6c2-dcf063270b28"
      },
      "execution_count": 10,
      "outputs": [
        {
          "output_type": "execute_result",
          "data": {
            "text/plain": [
              "array([2.88921673, 2.66606517, 3.40344837, 2.37571422])"
            ]
          },
          "metadata": {},
          "execution_count": 10
        }
      ]
    },
    {
      "cell_type": "code",
      "source": [
        "L"
      ],
      "metadata": {
        "colab": {
          "base_uri": "https://localhost:8080/"
        },
        "id": "UI6M-brdqz0r",
        "outputId": "0b64c682-9433-41a4-e212-9023ab4c8549"
      },
      "execution_count": 11,
      "outputs": [
        {
          "output_type": "execute_result",
          "data": {
            "text/plain": [
              "np.float64(11.33444449779325)"
            ]
          },
          "metadata": {},
          "execution_count": 11
        }
      ]
    },
    {
      "cell_type": "markdown",
      "source": [
        "# **How do we get the $q$'s in Machine Learning?**\n",
        "\n",
        "q should be related to a probability density function\n",
        "\n",
        "- Bounded between 0 and 1\n",
        "- The closer to 0, the less likely we are confident that image n is class c\n",
        "- The closer to 1, the more likely we are confident that image n is class c\n",
        "- Sum all $q_c$ = 1 for each image (we enforced this above in a different way)"
      ],
      "metadata": {
        "id": "0VM-HZrhrAnE"
      }
    },
    {
      "cell_type": "code",
      "source": [
        "yhat = 20*np.random.rand(40).reshape(4,10) **2"
      ],
      "metadata": {
        "id": "eI7gvy_6q98H"
      },
      "execution_count": 12,
      "outputs": []
    },
    {
      "cell_type": "code",
      "source": [
        "yhat"
      ],
      "metadata": {
        "colab": {
          "base_uri": "https://localhost:8080/"
        },
        "id": "lOGAJEk2AtrJ",
        "outputId": "b6e6fa5e-8518-4825-8733-fc233c127a0a"
      },
      "execution_count": 13,
      "outputs": [
        {
          "output_type": "execute_result",
          "data": {
            "text/plain": [
              "array([[1.27995833e+00, 4.48474641e-01, 2.97950308e+00, 8.82006155e+00,\n",
              "        4.79559935e+00, 9.62594560e+00, 1.85056067e+01, 8.99800828e-02,\n",
              "        8.66236000e+00, 5.22517461e+00],\n",
              "       [1.40614500e+00, 7.30810478e-01, 8.43817967e+00, 2.13152672e+00,\n",
              "        1.74224107e+00, 7.72255970e+00, 3.52748461e+00, 1.59133470e+01,\n",
              "        9.47059046e+00, 4.21030332e+00],\n",
              "       [5.35284400e+00, 1.15932211e+00, 1.74767366e+01, 8.90498294e+00,\n",
              "        1.04647018e+01, 1.12248930e-03, 8.39718648e-01, 5.45360789e-01,\n",
              "        1.51727481e+01, 2.01572434e+00],\n",
              "       [7.91506525e+00, 8.31372077e+00, 7.55182550e+00, 1.33195612e+01,\n",
              "        1.47908092e+01, 1.92498301e+01, 1.18611454e+01, 1.30420675e+01,\n",
              "        7.19666378e+00, 5.85756445e+00]])"
            ]
          },
          "metadata": {},
          "execution_count": 13
        }
      ]
    },
    {
      "cell_type": "code",
      "source": [
        "q = np.exp(yhat)\n",
        "q"
      ],
      "metadata": {
        "colab": {
          "base_uri": "https://localhost:8080/"
        },
        "id": "4BuOVuNfAt_J",
        "outputId": "71692ff5-63a6-4c60-c68e-1290f292bc3c"
      },
      "execution_count": 14,
      "outputs": [
        {
          "output_type": "execute_result",
          "data": {
            "text/plain": [
              "array([[3.59648985e+00, 1.56592177e+00, 1.96780357e+01, 6.76868126e+03,\n",
              "        1.20976868e+02, 1.51528756e+04, 1.08863642e+08, 1.09415249e+00,\n",
              "        5.78116212e+03, 1.85893627e+02],\n",
              "       [4.08019591e+00, 2.07676310e+00, 4.62013717e+03, 8.42772381e+00,\n",
              "        5.71012590e+00, 2.25873388e+03, 3.40382405e+01, 8.14852093e+06,\n",
              "        1.29725447e+04, 6.73769734e+01],\n",
              "       [2.11208121e+02, 3.18777159e+00, 3.89090184e+07, 7.36859951e+03,\n",
              "        3.50559906e+04, 1.00112312e+00, 2.31571535e+00, 1.72523071e+00,\n",
              "        3.88544497e+06, 7.50616242e+00],\n",
              "       [2.73822519e+03, 4.07946351e+03, 1.90421570e+03, 6.08992468e+05,\n",
              "        2.65195910e+06, 2.29136873e+08, 1.41654376e+05, 4.61421613e+05,\n",
              "        1.33496957e+03, 3.49870977e+02]])"
            ]
          },
          "metadata": {},
          "execution_count": 14
        }
      ]
    },
    {
      "cell_type": "code",
      "source": [
        "np.sum(q, axis=1).shape"
      ],
      "metadata": {
        "colab": {
          "base_uri": "https://localhost:8080/"
        },
        "id": "PDicGdI6A0Rs",
        "outputId": "f7de8fc2-89f4-4f24-e0c7-ec9016405539"
      },
      "execution_count": 20,
      "outputs": [
        {
          "output_type": "execute_result",
          "data": {
            "text/plain": [
              "(4,)"
            ]
          },
          "metadata": {},
          "execution_count": 20
        }
      ]
    },
    {
      "cell_type": "code",
      "source": [
        "# Currently (4,) but must expand to (4,1)\n",
        "np.expand_dims(np.sum(q, axis=1), axis=1).shape"
      ],
      "metadata": {
        "colab": {
          "base_uri": "https://localhost:8080/"
        },
        "id": "zov7KimVE1xq",
        "outputId": "082036b9-4bfb-4f0b-ef53-a163f7ad33fc"
      },
      "execution_count": 21,
      "outputs": [
        {
          "output_type": "execute_result",
          "data": {
            "text/plain": [
              "(4, 1)"
            ]
          },
          "metadata": {},
          "execution_count": 21
        }
      ]
    },
    {
      "cell_type": "code",
      "source": [
        "q = q/np.expand_dims(np.sum(q, axis=1), axis=1)\n",
        "q"
      ],
      "metadata": {
        "colab": {
          "base_uri": "https://localhost:8080/"
        },
        "id": "2g4xy8b1BWNW",
        "outputId": "94def6cf-4322-44d4-a2e1-6f05a28ba199"
      },
      "execution_count": 25,
      "outputs": [
        {
          "output_type": "execute_result",
          "data": {
            "text/plain": [
              "array([[3.30281426e-08, 1.43805459e-08, 1.80712026e-07, 6.21597665e-05,\n",
              "        1.11098360e-06, 1.39155498e-04, 9.99742537e-01, 1.00480819e-08,\n",
              "        5.30909455e-05, 1.70714265e-06],\n",
              "       [4.99504055e-07, 2.54240633e-07, 5.65604521e-04, 1.03173532e-06,\n",
              "        6.99042671e-07, 2.76517784e-04, 4.16701539e-06, 9.97554858e-01,\n",
              "        1.58811950e-03, 8.24839596e-06],\n",
              "       [4.93049359e-06, 7.44161132e-08, 9.08301562e-01, 1.72014374e-04,\n",
              "        8.18355548e-04, 2.33704609e-08, 5.40586209e-08, 4.02742042e-08,\n",
              "        9.07027698e-02, 1.75225676e-07],\n",
              "       [1.17514692e-05, 1.75075774e-05, 8.17220296e-06, 2.61357474e-03,\n",
              "        1.13812464e-02, 9.83372334e-01, 6.07929192e-04, 1.98025417e-03,\n",
              "        5.72920511e-06, 1.50151931e-06]])"
            ]
          },
          "metadata": {},
          "execution_count": 25
        }
      ]
    },
    {
      "cell_type": "code",
      "source": [
        "q.sum(axis=1)"
      ],
      "metadata": {
        "colab": {
          "base_uri": "https://localhost:8080/"
        },
        "id": "EDar2S03BXWZ",
        "outputId": "f8b27e94-965f-4357-a7a8-693913c6c0a3"
      },
      "execution_count": 27,
      "outputs": [
        {
          "output_type": "execute_result",
          "data": {
            "text/plain": [
              "array([1., 1., 1., 1.])"
            ]
          },
          "metadata": {},
          "execution_count": 27
        }
      ]
    },
    {
      "cell_type": "code",
      "source": [
        "p"
      ],
      "metadata": {
        "colab": {
          "base_uri": "https://localhost:8080/"
        },
        "id": "bR08xJpAFL3N",
        "outputId": "5ff7ba35-a770-415b-e2c2-c18c23dc5e15"
      },
      "execution_count": 28,
      "outputs": [
        {
          "output_type": "execute_result",
          "data": {
            "text/plain": [
              "array([[0, 0, 0, 0, 1, 0, 0, 0, 0, 0],\n",
              "       [0, 0, 1, 0, 0, 0, 0, 0, 0, 0],\n",
              "       [0, 0, 0, 0, 0, 0, 0, 0, 1, 0],\n",
              "       [0, 0, 0, 0, 0, 0, 1, 0, 0, 0]])"
            ]
          },
          "metadata": {},
          "execution_count": 28
        }
      ]
    },
    {
      "cell_type": "code",
      "source": [
        "c_squig = np.where(p)\n",
        "c_squig"
      ],
      "metadata": {
        "colab": {
          "base_uri": "https://localhost:8080/"
        },
        "id": "HT_yydfEGN9V",
        "outputId": "d4732a21-ff44-48d1-f1ad-58316e3066dd"
      },
      "execution_count": 30,
      "outputs": [
        {
          "output_type": "execute_result",
          "data": {
            "text/plain": [
              "(array([0, 1, 2, 3]), array([4, 2, 8, 6]))"
            ]
          },
          "metadata": {},
          "execution_count": 30
        }
      ]
    },
    {
      "cell_type": "markdown",
      "source": [
        "Compute the loss function:"
      ],
      "metadata": {
        "id": "pnzWhBRBGj5L"
      }
    },
    {
      "cell_type": "code",
      "source": [
        "q[c_squig]"
      ],
      "metadata": {
        "colab": {
          "base_uri": "https://localhost:8080/"
        },
        "id": "ozRUXKdzGTyi",
        "outputId": "2fa882c1-5670-42eb-abd5-755ceb4e4d73"
      },
      "execution_count": 32,
      "outputs": [
        {
          "output_type": "execute_result",
          "data": {
            "text/plain": [
              "array([1.11098360e-06, 5.65604521e-04, 9.07027698e-02, 6.07929192e-04])"
            ]
          },
          "metadata": {},
          "execution_count": 32
        }
      ]
    },
    {
      "cell_type": "code",
      "source": [
        "Hs = -np.log(q[c_squig])\n",
        "L = sum(Hs)\n",
        "L"
      ],
      "metadata": {
        "colab": {
          "base_uri": "https://localhost:8080/"
        },
        "id": "ssIBjPU2GmJb",
        "outputId": "8d9fcd1a-9313-4486-b69a-087112f372dd"
      },
      "execution_count": 33,
      "outputs": [
        {
          "output_type": "execute_result",
          "data": {
            "text/plain": [
              "np.float64(30.993499784690908)"
            ]
          },
          "metadata": {},
          "execution_count": 33
        }
      ]
    },
    {
      "cell_type": "markdown",
      "source": [
        "# **PyTorch Equivalent**"
      ],
      "metadata": {
        "id": "7bkvag0QHLxh"
      }
    },
    {
      "cell_type": "markdown",
      "source": [
        "Create loss function"
      ],
      "metadata": {
        "id": "s8adUsMjHSzF"
      }
    },
    {
      "cell_type": "code",
      "source": [
        "L = torch.nn.CrossEntropyLoss(reduction='sum')"
      ],
      "metadata": {
        "id": "QYtfD-C2GtVv"
      },
      "execution_count": 35,
      "outputs": []
    },
    {
      "cell_type": "markdown",
      "source": [
        "Evaluate on data above:"
      ],
      "metadata": {
        "id": "HQxYsKulHUK0"
      }
    },
    {
      "cell_type": "code",
      "source": [
        "L(torch.tensor(yhat), torch.tensor(p, dtype=torch.float))"
      ],
      "metadata": {
        "colab": {
          "base_uri": "https://localhost:8080/"
        },
        "id": "nPKQ4FhqHR8E",
        "outputId": "bc5b563a-53a2-42e7-f4c4-04f665ee8e80"
      },
      "execution_count": 36,
      "outputs": [
        {
          "output_type": "execute_result",
          "data": {
            "text/plain": [
              "tensor(30.9935, dtype=torch.float64)"
            ]
          },
          "metadata": {},
          "execution_count": 36
        }
      ]
    },
    {
      "cell_type": "code",
      "source": [],
      "metadata": {
        "id": "3uboLkBwHFRo"
      },
      "execution_count": null,
      "outputs": []
    }
  ]
}
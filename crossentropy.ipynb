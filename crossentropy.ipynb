{
  "nbformat": 4,
  "nbformat_minor": 0,
  "metadata": {
    "colab": {
      "provenance": [],
      "authorship_tag": "ABX9TyNuCOCtsj5deRTx1xUHGQak",
      "include_colab_link": true
    },
    "kernelspec": {
      "name": "python3",
      "display_name": "Python 3"
    },
    "language_info": {
      "name": "python"
    }
  },
  "cells": [
    {
      "cell_type": "markdown",
      "metadata": {
        "id": "view-in-github",
        "colab_type": "text"
      },
      "source": [
        "<a href=\"https://colab.research.google.com/github/The1AndOnlyAlex/PyTorch-MNIST/blob/main/crossentropy.ipynb\" target=\"_parent\"><img src=\"https://colab.research.google.com/assets/colab-badge.svg\" alt=\"Open In Colab\"/></a>"
      ]
    },
    {
      "cell_type": "code",
      "execution_count": 2,
      "metadata": {
        "id": "xx7qAKam72V9"
      },
      "outputs": [],
      "source": [
        "import numpy as np\n",
        "import matplotlib.pyplot as plt\n",
        "import torch\n",
        "#plt.style.use(['science', 'notebook'])"
      ]
    },
    {
      "cell_type": "code",
      "source": [
        "p = np.array([5,1,4,6,2,4])\n",
        "q1 = p\n",
        "q2 = np.array([3,7,1,4,1,6])\n",
        "q3 = np.array([2,5,7,2,1,5])"
      ],
      "metadata": {
        "id": "yWmr4lZ9-uBV"
      },
      "execution_count": 3,
      "outputs": []
    },
    {
      "cell_type": "code",
      "source": [
        "-sum(p*np.log(q1))"
      ],
      "metadata": {
        "id": "7GUCEMAdERWD",
        "colab": {
          "base_uri": "https://localhost:8080/"
        },
        "outputId": "cad481d7-f483-42a9-bdf1-06cc97539d3f"
      },
      "execution_count": 8,
      "outputs": [
        {
          "output_type": "execute_result",
          "data": {
            "text/plain": [
              "np.float64(-31.27439562761785)"
            ]
          },
          "metadata": {},
          "execution_count": 8
        }
      ]
    }
  ]
}
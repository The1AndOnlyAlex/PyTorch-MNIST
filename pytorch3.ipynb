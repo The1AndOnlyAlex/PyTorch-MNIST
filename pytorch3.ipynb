{
  "nbformat": 4,
  "nbformat_minor": 0,
  "metadata": {
    "colab": {
      "provenance": [],
      "authorship_tag": "ABX9TyP4UcFblYHVchVbjxnMmqcU",
      "include_colab_link": true
    },
    "kernelspec": {
      "name": "python3",
      "display_name": "Python 3"
    },
    "language_info": {
      "name": "python"
    }
  },
  "cells": [
    {
      "cell_type": "markdown",
      "metadata": {
        "id": "view-in-github",
        "colab_type": "text"
      },
      "source": [
        "<a href=\"https://colab.research.google.com/github/The1AndOnlyAlex/PyTorch-MNIST/blob/main/pytorch3.ipynb\" target=\"_parent\"><img src=\"https://colab.research.google.com/assets/colab-badge.svg\" alt=\"Open In Colab\"/></a>"
      ]
    },
    {
      "cell_type": "code",
      "execution_count": 68,
      "metadata": {
        "id": "uMCSeJ5eLThk"
      },
      "outputs": [],
      "source": [
        "import torch\n",
        "import torch.nn as nn\n",
        "from torch.optim import SGD\n",
        "import numpy as np\n",
        "import matplotlib.pyplot as plt"
      ]
    },
    {
      "cell_type": "markdown",
      "source": [
        "It turns out the previous model was not very good at all. There were 24 parameters across the two matricies but there was only technically two independent parameters because:\n",
        "$A_2A_1 = B$\n",
        "\n",
        "where $B$ is a $2 x 1$ matrix. So really our function was $f(x) = Bx$"
      ],
      "metadata": {
        "id": "gvMDoeLbkFBB"
      }
    },
    {
      "cell_type": "code",
      "source": [
        "# Previous neural network:\n",
        "x = torch.tensor([[6,2],[5,2],[1,3],[7,6]]).float()\n",
        "y = torch.tensor([1,5,2,5]).float()\n",
        "\n",
        "class MyNeuralNet(nn.Module):\n",
        "    def __init__(self):\n",
        "        super().__init__()\n",
        "        self.Matrix1 = nn.Linear(2,8,bias=False)\n",
        "        self.Matrix2 = nn.Linear(8,1,bias=False)\n",
        "    def forward(self,x):\n",
        "        x = self.Matrix1(x)\n",
        "        x = self.Matrix2(x)\n",
        "        return x.squeeze()\n",
        "\n",
        "f = MyNeuralNet()\n",
        "opt = SGD(f.parameters(), lr=0.001)\n",
        "L = nn.MSELoss()\n",
        "\n",
        "# Train model\n",
        "losses = []\n",
        "for _ in range(50):\n",
        "    opt.zero_grad() # flush previous epoch's gradient\n",
        "    loss_value = L(f(x), y) #compute loss\n",
        "    loss_value.backward() # compute gradient\n",
        "    opt.step() # Perform iteration using gradient above\n",
        "    losses.append(loss_value.item())"
      ],
      "metadata": {
        "id": "jmqAt4IatPM0"
      },
      "execution_count": 69,
      "outputs": []
    },
    {
      "cell_type": "code",
      "source": [
        "y"
      ],
      "metadata": {
        "colab": {
          "base_uri": "https://localhost:8080/"
        },
        "id": "NXBuN1G-yrTo",
        "outputId": "c1a86dac-acb6-4880-bb91-2a8ae78783be"
      },
      "execution_count": 70,
      "outputs": [
        {
          "output_type": "execute_result",
          "data": {
            "text/plain": [
              "tensor([1., 5., 2., 5.])"
            ]
          },
          "metadata": {},
          "execution_count": 70
        }
      ]
    },
    {
      "cell_type": "code",
      "source": [
        "f(x)"
      ],
      "metadata": {
        "colab": {
          "base_uri": "https://localhost:8080/"
        },
        "id": "RBsTO26pysSS",
        "outputId": "4ba5c9a2-fd24-4051-b248-beb2b0fcd795"
      },
      "execution_count": 71,
      "outputs": [
        {
          "output_type": "execute_result",
          "data": {
            "text/plain": [
              "tensor([2.8429, 2.5420, 1.8569, 5.2184], grad_fn=<SqueezeBackward0>)"
            ]
          },
          "metadata": {},
          "execution_count": 71
        }
      ]
    },
    {
      "cell_type": "markdown",
      "source": [
        "# **How can we use the simplicity of linear algebra but have advanced models?**\n",
        "\n",
        "The Crux of Machine learning: This lies in so-called activation functions, which add ever-so-slight non-linearities to a sequence of matrix transformations. Instead of:\n",
        "\n",
        "$f(x) = A_2A_1x$\n",
        "\n",
        "consider instead\n",
        "\n",
        "$f_2(x) = A_2R(A_1x)$\n",
        "\n",
        "where $R$ is an element-wise operator defined by\n",
        "\n",
        "$R(x) = \\left\\{\n",
        "\\begin{aligned}\n",
        "& x \\quad x > 0 \\\\\n",
        "& 0 \\quad x <= 0 \\\\\n",
        "\\end{aligned}\n",
        "\\right.$"
      ],
      "metadata": {
        "id": "hT3etYTskeSm"
      }
    },
    {
      "cell_type": "code",
      "source": [
        "x = torch.tensor([[4,6,2,-1,6,2,5],[1,6,2,-6,5,-3,5]])\n",
        "x"
      ],
      "metadata": {
        "colab": {
          "base_uri": "https://localhost:8080/"
        },
        "id": "sP14A7BjP6sR",
        "outputId": "7ee1801e-c028-4394-b862-1e0906727147"
      },
      "execution_count": 72,
      "outputs": [
        {
          "output_type": "execute_result",
          "data": {
            "text/plain": [
              "tensor([[ 4,  6,  2, -1,  6,  2,  5],\n",
              "        [ 1,  6,  2, -6,  5, -3,  5]])"
            ]
          },
          "metadata": {},
          "execution_count": 72
        }
      ]
    },
    {
      "cell_type": "code",
      "source": [
        "R = nn.ReLU()\n",
        "R(x)"
      ],
      "metadata": {
        "colab": {
          "base_uri": "https://localhost:8080/"
        },
        "id": "0QLC9ic0nxOZ",
        "outputId": "58a0bae2-5e29-4484-8eb8-d46e2bef50bd"
      },
      "execution_count": 73,
      "outputs": [
        {
          "output_type": "execute_result",
          "data": {
            "text/plain": [
              "tensor([[4, 6, 2, 0, 6, 2, 5],\n",
              "        [1, 6, 2, 0, 5, 0, 5]])"
            ]
          },
          "metadata": {},
          "execution_count": 73
        }
      ]
    },
    {
      "cell_type": "code",
      "source": [
        "# Another example\n",
        "x = torch.linspace(-3,3,100)\n",
        "y = R(x)"
      ],
      "metadata": {
        "id": "5acxpSfWn274"
      },
      "execution_count": 74,
      "outputs": []
    },
    {
      "cell_type": "code",
      "source": [
        "plt.plot(x.numpy(), y.numpy())\n",
        "plt.grid()\n",
        "plt.show()"
      ],
      "metadata": {
        "colab": {
          "base_uri": "https://localhost:8080/",
          "height": 421
        },
        "id": "wImaUY7AoBU1",
        "outputId": "ea04ce80-a1b8-4384-c7a7-3965ede139c0"
      },
      "execution_count": 75,
      "outputs": [
        {
          "output_type": "display_data",
          "data": {
            "text/plain": [
              "<Figure size 640x480 with 1 Axes>"
            ],
            "image/png": "[encoded data removed]"
          },
          "metadata": {}
        }
      ]
    },
    {
      "cell_type": "markdown",
      "source": [
        "How much better does the model do with this simple adjustment?"
      ],
      "metadata": {
        "id": "ROqhog03odO5"
      }
    },
    {
      "cell_type": "code",
      "source": [
        "class MyNeuralNet2(nn.Module):\n",
        "  def __init__(self):\n",
        "    super().__init__()\n",
        "    self.Matrix1 = nn.Linear(2,8,bias=False)\n",
        "    self.Matrix2 = nn.Linear(8,1,bias=False)\n",
        "    self.R = nn.ReLU()\n",
        "  def forward(self,x):\n",
        "    x = self.R(self.Matrix1(x))\n",
        "    x = self.Matrix2(x)\n",
        "    return x.squeeze()"
      ],
      "metadata": {
        "id": "U0JFFvDioUDr"
      },
      "execution_count": 76,
      "outputs": []
    },
    {
      "cell_type": "markdown",
      "source": [
        "Train model"
      ],
      "metadata": {
        "id": "7mqL45KIo1K2"
      }
    },
    {
      "cell_type": "code",
      "source": [
        "def train_model(x,y,f, n_epochs=50):\n",
        "  opt = SGD(f.parameters(), lr=0.001)\n",
        "  L = nn.MSELoss()\n",
        "\n",
        "  # Train model\n",
        "  losses = []\n",
        "  for _ in range(n_epochs):\n",
        "      opt.zero_grad() # flush previous epoch's gradeint\n",
        "      loss_value = L(f(x), y) # Compute loss\n",
        "      loss_value.backward() # Compute gradient\n",
        "      opt.step() # Perform iternation using gradient above\n",
        "      losses.append(loss_value.item())\n",
        "  return f, losses"
      ],
      "metadata": {
        "id": "0bISEEBbo0f8"
      },
      "execution_count": 77,
      "outputs": []
    },
    {
      "cell_type": "code",
      "source": [
        "x = torch.tensor([[6,2],[5,2],[1,3],[7,6]]).float()\n",
        "y = torch.tensor([1,5,2,5]).float()\n",
        "f2 = MyNeuralNet2()\n",
        "\n",
        "# Train model\n",
        "f2, losses2 = train_model(x,y,f2, n_epochs=5000)"
      ],
      "metadata": {
        "id": "KcKCY2Cmq9cE"
      },
      "execution_count": 78,
      "outputs": []
    },
    {
      "cell_type": "markdown",
      "source": [
        "predictions:"
      ],
      "metadata": {
        "id": "Uh03eyoZs0Ke"
      }
    },
    {
      "cell_type": "code",
      "source": [
        "y"
      ],
      "metadata": {
        "colab": {
          "base_uri": "https://localhost:8080/"
        },
        "id": "VOnfC9n5rgEi",
        "outputId": "81c4c1ff-7c2d-47d9-d7aa-8d47bd2a0ac1"
      },
      "execution_count": 79,
      "outputs": [
        {
          "output_type": "execute_result",
          "data": {
            "text/plain": [
              "tensor([1., 5., 2., 5.])"
            ]
          },
          "metadata": {},
          "execution_count": 79
        }
      ]
    },
    {
      "cell_type": "code",
      "source": [
        "f(x)"
      ],
      "metadata": {
        "colab": {
          "base_uri": "https://localhost:8080/"
        },
        "id": "YmzAtX7cs1I0",
        "outputId": "767c52be-a307-465d-e0d8-632c4ddeadf5"
      },
      "execution_count": 80,
      "outputs": [
        {
          "output_type": "execute_result",
          "data": {
            "text/plain": [
              "tensor([2.8429, 2.5420, 1.8569, 5.2184], grad_fn=<SqueezeBackward0>)"
            ]
          },
          "metadata": {},
          "execution_count": 80
        }
      ]
    },
    {
      "cell_type": "markdown",
      "source": [
        "Slightly better. The real advantage of this slight non-linearity is that we can make our matrices much larger. Lets make our matrices size $80 x 2$ and $1 x 80$. This only works because of our non-linearity function $R(x)$:\n",
        "\n",
        "Without $R(x)$ we would just have $A_2A_2 = B$ and so $f(x) = Bx$ where $B$ is still a $1 x 2$ matrix even though $A_2$ and $A_1$ are larger matrices. The non-linearity function $R(x)$, to some extent, makes all 240 parameters more independent from eachother.\n",
        "\n",
        "Previous model: $f_2(x) = A_2R(A_1x) \\quad A_2$ is $1x8$ and $A_1$ is $8x2$\n",
        "\n",
        "New model: $f_3(x) = A_2R(A_1x) \\quad A_2$ is $1x80$ and $A_1$ is $80x2$"
      ],
      "metadata": {
        "id": "wpqLe50ltq2y"
      }
    },
    {
      "cell_type": "code",
      "source": [
        "class MyNeuralNet3(nn.Module):\n",
        "  def __init__(self):\n",
        "    super().__init__()\n",
        "    self.Matrix1 = nn.Linear(2,80, bias=False)\n",
        "    self.Matrix2 = nn.Linear(80,1, bias = False)\n",
        "    self.R = nn.ReLU()\n",
        "  def forward(self,x):\n",
        "    x = self.R(self.Matrix1(x))\n",
        "    x = self.Matrix2(x)\n",
        "    return x.squeeze()"
      ],
      "metadata": {
        "id": "faaTPpOetZVQ"
      },
      "execution_count": 81,
      "outputs": []
    },
    {
      "cell_type": "markdown",
      "source": [
        "Train model:"
      ],
      "metadata": {
        "id": "zbeAvyVGwThP"
      }
    },
    {
      "cell_type": "code",
      "source": [
        "x = torch.tensor([[6,2],[5,2],[1,3],[7,6]]).float()\n",
        "y = torch.tensor([1,5,2,5]).float()\n",
        "f3 = MyNeuralNet3()\n",
        "\n",
        "# Train model\n",
        "f3, losses3 = train_model(x,y,f3, n_epochs=5000)"
      ],
      "metadata": {
        "id": "fo05uWXrwRNr"
      },
      "execution_count": 82,
      "outputs": []
    },
    {
      "cell_type": "code",
      "source": [
        "y"
      ],
      "metadata": {
        "colab": {
          "base_uri": "https://localhost:8080/"
        },
        "id": "1_E18gpgwopS",
        "outputId": "8c190180-770b-48bf-ed44-e4a967bfa952"
      },
      "execution_count": 83,
      "outputs": [
        {
          "output_type": "execute_result",
          "data": {
            "text/plain": [
              "tensor([1., 5., 2., 5.])"
            ]
          },
          "metadata": {},
          "execution_count": 83
        }
      ]
    },
    {
      "cell_type": "code",
      "source": [
        "f3(x)"
      ],
      "metadata": {
        "colab": {
          "base_uri": "https://localhost:8080/"
        },
        "id": "zffr9APswkpE",
        "outputId": "c92e95ed-fb63-42df-a32e-75219e6ceb73"
      },
      "execution_count": 84,
      "outputs": [
        {
          "output_type": "execute_result",
          "data": {
            "text/plain": [
              "tensor([1.9607, 3.6477, 1.9169, 5.1594], grad_fn=<SqueezeBackward0>)"
            ]
          },
          "metadata": {},
          "execution_count": 84
        }
      ]
    },
    {
      "cell_type": "markdown",
      "source": [
        "Closer? But still not exact.\n",
        "\n",
        "$f(x) = A_2R(A_1x+b_1)+b_2$\n",
        "\n",
        "where $b_1$ and $b_2$ are vectors added to each of the linear transformations."
      ],
      "metadata": {
        "id": "_c6eJ17QxYLX"
      }
    },
    {
      "cell_type": "code",
      "source": [
        "class MyNeuralNet4(nn.Module):\n",
        "  def __init__(self):\n",
        "    super().__init__()\n",
        "    self.Matrix1 = nn.Linear(2,80)\n",
        "    self.Matrix2 = nn.Linear(80,1)\n",
        "    self.R = nn.ReLU()\n",
        "  def forward(self,x):\n",
        "    x = self.R(self.Matrix1(x))\n",
        "    x = self.Matrix2(x)\n",
        "    return x.squeeze()"
      ],
      "metadata": {
        "id": "c_x7tQ-Vwm2A"
      },
      "execution_count": 85,
      "outputs": []
    },
    {
      "cell_type": "code",
      "source": [
        "x = torch.tensor([[6,2],[5,2],[1,3],[7,6]]).float()\n",
        "y = torch.tensor([1,5,2,5]).float()\n",
        "f4 = MyNeuralNet4()\n",
        "\n",
        "# Train model\n",
        "f4, losses4 = train_model(x,y,f4, n_epochs=5000)"
      ],
      "metadata": {
        "id": "yc9Q-UXayG80"
      },
      "execution_count": 86,
      "outputs": []
    },
    {
      "cell_type": "code",
      "source": [
        "y"
      ],
      "metadata": {
        "colab": {
          "base_uri": "https://localhost:8080/"
        },
        "id": "kr8Gc1Ziydo4",
        "outputId": "8e459432-2d65-4c67-8a96-cead12c38de2"
      },
      "execution_count": 87,
      "outputs": [
        {
          "output_type": "execute_result",
          "data": {
            "text/plain": [
              "tensor([1., 5., 2., 5.])"
            ]
          },
          "metadata": {},
          "execution_count": 87
        }
      ]
    },
    {
      "cell_type": "code",
      "source": [
        "f4(x)"
      ],
      "metadata": {
        "colab": {
          "base_uri": "https://localhost:8080/"
        },
        "id": "tBlX4H8AyaV-",
        "outputId": "120a2aa5-e919-4c33-c800-c5ba005c420f"
      },
      "execution_count": 88,
      "outputs": [
        {
          "output_type": "execute_result",
          "data": {
            "text/plain": [
              "tensor([1.4160, 4.4916, 2.0340, 5.0147], grad_fn=<SqueezeBackward0>)"
            ]
          },
          "metadata": {},
          "execution_count": 88
        }
      ]
    },
    {
      "cell_type": "markdown",
      "source": [
        "One last thing:\n",
        "What if we add another matrix in the middle?\n",
        "\n",
        "Previous model: $f_3(x) = A_2R(A_1x+b_1) + b_2 \\quad A_2$ is $1x80$ and $A_1$ is $80x2$\n",
        "\n",
        "New model: $f_3(x) = A_3R(A_2R(A_1x+b_1) + b_2) \\quad A_3$ is $1x80$ and $A_2$ is $80x80$ and $A_1$ is $80x2$"
      ],
      "metadata": {
        "id": "ampAQg4xzGDv"
      }
    },
    {
      "cell_type": "code",
      "source": [
        "class MyNeuralNet5(nn.Module):\n",
        "  def __init__(self):\n",
        "    super().__init__()\n",
        "    self.Matrix1 = nn.Linear(2,80)\n",
        "    self.Matrix2 = nn.Linear(80,80)\n",
        "    self.Matrix3 = nn.Linear(80,1)\n",
        "    self.R = nn.ReLU()\n",
        "  def forward(self,x):\n",
        "    x = self.R(self.Matrix1(x))\n",
        "    x = self.R(self.Matrix2(x))\n",
        "    x = self.Matrix3(x)\n",
        "    return x.squeeze()\n",
        "\n",
        "\n",
        "x = torch.tensor([[6,2],[5,2],[1,3],[7,6]]).float()\n",
        "y = torch.tensor([1,5,2,5]).float()\n",
        "f5 = MyNeuralNet5()\n",
        "\n",
        "opt = SGD(f.parameters(), lr=0.001)\n",
        "L = nn.MSELoss()\n",
        "\n",
        "\n",
        "# train model\n",
        "f5, losses5 = train_model(x,y,f5, n_epochs=5000)"
      ],
      "metadata": {
        "id": "tpKSmBtPzhhB"
      },
      "execution_count": 89,
      "outputs": []
    },
    {
      "cell_type": "code",
      "source": [
        "y"
      ],
      "metadata": {
        "colab": {
          "base_uri": "https://localhost:8080/"
        },
        "id": "7BP72mId0U_4",
        "outputId": "012493e5-4405-4656-f26f-5898a76d5329"
      },
      "execution_count": 90,
      "outputs": [
        {
          "output_type": "execute_result",
          "data": {
            "text/plain": [
              "tensor([1., 5., 2., 5.])"
            ]
          },
          "metadata": {},
          "execution_count": 90
        }
      ]
    },
    {
      "cell_type": "code",
      "source": [
        "f5(x)"
      ],
      "metadata": {
        "colab": {
          "base_uri": "https://localhost:8080/"
        },
        "id": "_3N-vhL90Xj1",
        "outputId": "eaa1240d-f43e-47e4-c2fc-b3c599b1f3eb"
      },
      "execution_count": 91,
      "outputs": [
        {
          "output_type": "execute_result",
          "data": {
            "text/plain": [
              "tensor([1.0004, 4.9991, 2.0000, 5.0000], grad_fn=<SqueezeBackward0>)"
            ]
          },
          "metadata": {},
          "execution_count": 91
        }
      ]
    },
    {
      "cell_type": "code",
      "source": [],
      "metadata": {
        "id": "sv_t5VNB0ZwI"
      },
      "execution_count": 91,
      "outputs": []
    }
  ]
}
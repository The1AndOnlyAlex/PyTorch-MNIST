{
  "nbformat": 4,
  "nbformat_minor": 0,
  "metadata": {
    "colab": {
      "provenance": [],
      "authorship_tag": "ABX9TyOB1Dhyl8iuiQW/KSIwUmII",
      "include_colab_link": true
    },
    "kernelspec": {
      "name": "python3",
      "display_name": "Python 3"
    },
    "language_info": {
      "name": "python"
    }
  },
  "cells": [
    {
      "cell_type": "markdown",
      "metadata": {
        "id": "view-in-github",
        "colab_type": "text"
      },
      "source": [
        "<a href=\"https://colab.research.google.com/github/The1AndOnlyAlex/PyTorch-MNIST/blob/main/pytorch3.ipynb\" target=\"_parent\"><img src=\"https://colab.research.google.com/assets/colab-badge.svg\" alt=\"Open In Colab\"/></a>"
      ]
    },
    {
      "cell_type": "code",
      "execution_count": 25,
      "metadata": {
        "id": "uMCSeJ5eLThk"
      },
      "outputs": [],
      "source": [
        "import torch\n",
        "import torch.nn as nn\n",
        "from torch.optim import SGD\n",
        "import numpy as np\n",
        "import matplotlib.pyplot as plt"
      ]
    },
    {
      "cell_type": "markdown",
      "source": [
        "It turns out the previous model was not very good at all. There were 24 parameters across the two matricies but there was only technically two independent parameters because:\n",
        "$A_2A_1 = B$\n",
        "\n",
        "where $B$ is a $2 x 1$ matrix. So really our function was $f(x) = Bx$"
      ],
      "metadata": {
        "id": "gvMDoeLbkFBB"
      }
    },
    {
      "cell_type": "code",
      "source": [
        "# Previous neural network:\n",
        "x = torch.tensor([[6,2],[5,2],[1,3],[7,6]]).float()\n",
        "y = torch.tensor([1,5,2,5]).float()\n",
        "\n",
        "class MyNeuralNet(nn.Module):\n",
        "    def __init__(self):\n",
        "        super().__init__()\n",
        "        self.Matrix1 = nn.Linear(2,8,bias=False)\n",
        "        self.Matrix2 = nn.Linear(8,1,bias=False)\n",
        "    def forward(self,x):\n",
        "        x = self.Matrix1(x)\n",
        "        x = self.Matrix2(x)\n",
        "        return x.squeeze()\n",
        "\n",
        "f = MyNeuralNet()\n",
        "opt = SGD(f.parameters(), lr=0.001)\n",
        "L = nn.MSELoss()\n",
        "\n",
        "# Train model\n",
        "losses = []\n",
        "for _ in range(50):\n",
        "    opt.zero_grad() # flush previous epoch's gradient\n",
        "    loss_value = L(f(x), y) #compute loss\n",
        "    loss_value.backward() # compute gradient\n",
        "    opt.step() # Perform iteration using gradient above\n",
        "    losses.append(loss_value.item())"
      ],
      "metadata": {
        "id": "jmqAt4IatPM0"
      },
      "execution_count": 26,
      "outputs": []
    },
    {
      "cell_type": "code",
      "source": [
        "y"
      ],
      "metadata": {
        "colab": {
          "base_uri": "https://localhost:8080/"
        },
        "id": "NXBuN1G-yrTo",
        "outputId": "4ab3b0f4-6c98-4099-c85c-e36017fb1e13"
      },
      "execution_count": 27,
      "outputs": [
        {
          "output_type": "execute_result",
          "data": {
            "text/plain": [
              "tensor([1., 5., 2., 5.])"
            ]
          },
          "metadata": {},
          "execution_count": 27
        }
      ]
    },
    {
      "cell_type": "code",
      "source": [
        "f(x)"
      ],
      "metadata": {
        "colab": {
          "base_uri": "https://localhost:8080/"
        },
        "id": "RBsTO26pysSS",
        "outputId": "24e55a80-64e8-4529-e2bb-9b84f0d3f834"
      },
      "execution_count": 28,
      "outputs": [
        {
          "output_type": "execute_result",
          "data": {
            "text/plain": [
              "tensor([2.9239, 2.5908, 1.7214, 5.1081], grad_fn=<SqueezeBackward0>)"
            ]
          },
          "metadata": {},
          "execution_count": 28
        }
      ]
    },
    {
      "cell_type": "markdown",
      "source": [
        "# **How can we use the simplicity of linear algebra but have advanced models?**\n",
        "\n",
        "The Crux of Machine learning: This lies in so-called activation functions, which add ever-so-slight non-linearities to a sequence of matrix transformations. Instead of:\n",
        "\n",
        "$f(x) = A_2A_1x$\n",
        "\n",
        "consider instead\n",
        "\n",
        "$f_2(x) = A_2R(A_1x)$\n",
        "\n",
        "where $R$ is an element-wise operator defined by\n",
        "\n",
        "$R(x) = \\left\\{\n",
        "\\begin{aligned}\n",
        "& x \\quad x > 0 \\\\\n",
        "& 0 \\quad x <= 0 \\\\\n",
        "\\end{aligned}\n",
        "\\right.$"
      ],
      "metadata": {
        "id": "hT3etYTskeSm"
      }
    },
    {
      "cell_type": "code",
      "source": [
        "x = torch.tensor([[4,6,2,-1,6,2,5],[1,6,2,-6,5,-3,5]])\n",
        "x"
      ],
      "metadata": {
        "colab": {
          "base_uri": "https://localhost:8080/"
        },
        "id": "sP14A7BjP6sR",
        "outputId": "8d266634-a1b6-43f4-9a63-30cfe1ace209"
      },
      "execution_count": 29,
      "outputs": [
        {
          "output_type": "execute_result",
          "data": {
            "text/plain": [
              "tensor([[ 4,  6,  2, -1,  6,  2,  5],\n",
              "        [ 1,  6,  2, -6,  5, -3,  5]])"
            ]
          },
          "metadata": {},
          "execution_count": 29
        }
      ]
    },
    {
      "cell_type": "code",
      "source": [
        "R = nn.ReLU()\n",
        "R(x)"
      ],
      "metadata": {
        "colab": {
          "base_uri": "https://localhost:8080/"
        },
        "id": "0QLC9ic0nxOZ",
        "outputId": "cbc25c56-f29e-4a6f-bb39-b8b1b24018e1"
      },
      "execution_count": 30,
      "outputs": [
        {
          "output_type": "execute_result",
          "data": {
            "text/plain": [
              "tensor([[4, 6, 2, 0, 6, 2, 5],\n",
              "        [1, 6, 2, 0, 5, 0, 5]])"
            ]
          },
          "metadata": {},
          "execution_count": 30
        }
      ]
    },
    {
      "cell_type": "code",
      "source": [
        "# Another example\n",
        "x = torch.linspace(-3,3,100)\n",
        "y = R(x)"
      ],
      "metadata": {
        "id": "5acxpSfWn274"
      },
      "execution_count": 31,
      "outputs": []
    },
    {
      "cell_type": "code",
      "source": [
        "plt.plot(x.numpy(), y.numpy())\n",
        "plt.grid()\n",
        "plt.show()"
      ],
      "metadata": {
        "colab": {
          "base_uri": "https://localhost:8080/",
          "height": 421
        },
        "id": "wImaUY7AoBU1",
        "outputId": "e9e78350-fd84-4752-94b9-d4953254b9e4"
      },
      "execution_count": 32,
      "outputs": [
        {
          "output_type": "display_data",
          "data": {
            "text/plain": [
              "<Figure size 640x480 with 1 Axes>"
            ],
            "image/png": "[encoded data removed]"
          },
          "metadata": {}
        }
      ]
    },
    {
      "cell_type": "markdown",
      "source": [
        "How much better does the model do with this simple adjustment?"
      ],
      "metadata": {
        "id": "ROqhog03odO5"
      }
    },
    {
      "cell_type": "code",
      "source": [
        "class MyNeuralNet2(nn.Module):\n",
        "  def __init__(self):\n",
        "    super().__init__()\n",
        "    self.Matrix1 = nn.Linear(2,8,bias=False)\n",
        "    self.Matrix2 = nn.Linear(8,1,bias=False)\n",
        "    self.R = nn.ReLU()\n",
        "  def forward(self,x):\n",
        "    x = self.R(self.Matrix1(x))\n",
        "    x = self.Matrix2(x)\n",
        "    return x.squeeze()"
      ],
      "metadata": {
        "id": "U0JFFvDioUDr"
      },
      "execution_count": 33,
      "outputs": []
    },
    {
      "cell_type": "markdown",
      "source": [
        "Train model"
      ],
      "metadata": {
        "id": "7mqL45KIo1K2"
      }
    },
    {
      "cell_type": "code",
      "source": [
        "def train_model(x,y,f, n_epochs=50):\n",
        "  opt = SGD(f.parameters(), lr=0.001)\n",
        "  L = nn.MSELoss()\n",
        "\n",
        "  # Train model\n",
        "  losses = []\n",
        "  for _ in range(n_epochs):\n",
        "      opt.zero_grad() # flush previous epoch's gradeint\n",
        "      loss_value = L(f(x), y) # Compute loss\n",
        "      loss_value.backward() # Compute gradient\n",
        "      opt.step() # Perform iternation using gradient above\n",
        "      losses.append(loss_value.item())\n",
        "  return f, losses"
      ],
      "metadata": {
        "id": "0bISEEBbo0f8"
      },
      "execution_count": 34,
      "outputs": []
    },
    {
      "cell_type": "code",
      "source": [
        "x = torch.tensor([[6,2],[5,2],[1,3],[7,6]]).float()\n",
        "y = torch.tensor([1,5,2,5]).float()\n",
        "f2 = MyNeuralNet2()\n",
        "\n",
        "# Train model\n",
        "f2, losses2 = train_model(x,y,f2, n_epochs=5000)"
      ],
      "metadata": {
        "id": "KcKCY2Cmq9cE"
      },
      "execution_count": 35,
      "outputs": []
    },
    {
      "cell_type": "markdown",
      "source": [
        "predictions:"
      ],
      "metadata": {
        "id": "Uh03eyoZs0Ke"
      }
    },
    {
      "cell_type": "code",
      "source": [
        "y"
      ],
      "metadata": {
        "colab": {
          "base_uri": "https://localhost:8080/"
        },
        "id": "VOnfC9n5rgEi",
        "outputId": "40ffa9f0-8d84-4414-ab39-c8fdf3dc181a"
      },
      "execution_count": 36,
      "outputs": [
        {
          "output_type": "execute_result",
          "data": {
            "text/plain": [
              "tensor([1., 5., 2., 5.])"
            ]
          },
          "metadata": {},
          "execution_count": 36
        }
      ]
    },
    {
      "cell_type": "code",
      "source": [
        "f(x)"
      ],
      "metadata": {
        "colab": {
          "base_uri": "https://localhost:8080/"
        },
        "id": "YmzAtX7cs1I0",
        "outputId": "49c6509d-fe3e-4f95-b0c7-9da0acbdcf14"
      },
      "execution_count": 37,
      "outputs": [
        {
          "output_type": "execute_result",
          "data": {
            "text/plain": [
              "tensor([2.9239, 2.5908, 1.7214, 5.1081], grad_fn=<SqueezeBackward0>)"
            ]
          },
          "metadata": {},
          "execution_count": 37
        }
      ]
    },
    {
      "cell_type": "markdown",
      "source": [
        "Slightly better. The real advantage of this slight non-linearity is that we can make our matrices much larger. Lets make our matrices size $80 x 2$ and $1 x 80$. This only works because of our non-linearity function $R(x)$:\n",
        "\n",
        "Without $R(x)$ we would just have $A_2A_2 = B$ and so $f(x) = Bx$ where $B$ is still a $1 x 2$ matrix even though $A_2$ and $A_1$ are larger matrices. The non-linearity function $R(x)$, to some extent, makes all 240 parameters more independent from eachother.\n",
        "\n",
        "Previous model: $f_2(x) = A_2R(A_1x) \\quad A_2$ is $1x8$ and $A_1$ is $8x2$\n",
        "\n",
        "New model: $f_3(x) = A_2R(A_1x) \\quad A_2$ is $1x80$ and $A_1$ is $80x2$"
      ],
      "metadata": {
        "id": "wpqLe50ltq2y"
      }
    },
    {
      "cell_type": "code",
      "source": [
        "class MyNeuralNet3(nn.Module):\n",
        "  def __init__(self):\n",
        "    super().__init__()\n",
        "    self.Matrix1 = nn.Linear(2,80, bias=False)\n",
        "    self.Matrix2 = nn.Linear(80,1, bias = False)\n",
        "    self.R = nn.ReLU()\n",
        "  def forward(self,x):\n",
        "    x = self.R(self.Matrix1(x))\n",
        "    x = self.Matrix2(x)\n",
        "    return x.squeeze()"
      ],
      "metadata": {
        "id": "faaTPpOetZVQ"
      },
      "execution_count": 38,
      "outputs": []
    },
    {
      "cell_type": "markdown",
      "source": [
        "Train model:"
      ],
      "metadata": {
        "id": "zbeAvyVGwThP"
      }
    },
    {
      "cell_type": "code",
      "source": [
        "x = torch.tensor([[6,2],[5,2],[1,3],[7,6]]).float()\n",
        "y = torch.tensor([1,5,2,5]).float()\n",
        "f3 = MyNeuralNet3()\n",
        "\n",
        "# Train model\n",
        "f3, losses3 = train_model(x,y,f3, n_epochs=5000)"
      ],
      "metadata": {
        "id": "fo05uWXrwRNr"
      },
      "execution_count": 39,
      "outputs": []
    },
    {
      "cell_type": "code",
      "source": [
        "y"
      ],
      "metadata": {
        "colab": {
          "base_uri": "https://localhost:8080/"
        },
        "id": "1_E18gpgwopS",
        "outputId": "7ec30655-df5f-4971-94f4-3bb88fc9af48"
      },
      "execution_count": 40,
      "outputs": [
        {
          "output_type": "execute_result",
          "data": {
            "text/plain": [
              "tensor([1., 5., 2., 5.])"
            ]
          },
          "metadata": {},
          "execution_count": 40
        }
      ]
    },
    {
      "cell_type": "code",
      "source": [
        "f3(x)"
      ],
      "metadata": {
        "colab": {
          "base_uri": "https://localhost:8080/"
        },
        "id": "zffr9APswkpE",
        "outputId": "088a5ae8-4f41-4fee-f595-c40152491b1a"
      },
      "execution_count": 41,
      "outputs": [
        {
          "output_type": "execute_result",
          "data": {
            "text/plain": [
              "tensor([2.2259, 3.2539, 1.9198, 5.1570], grad_fn=<SqueezeBackward0>)"
            ]
          },
          "metadata": {},
          "execution_count": 41
        }
      ]
    },
    {
      "cell_type": "markdown",
      "source": [
        "Closer? But still not exact.\n",
        "\n",
        "$f(x) = A_2R(A_1x+b_1)+b_2$\n",
        "\n",
        "where $b_1$ and $b_2$ are vectors added to each of the linear transformations."
      ],
      "metadata": {
        "id": "_c6eJ17QxYLX"
      }
    },
    {
      "cell_type": "code",
      "source": [
        "class MyNeuralNet4(nn.Module):\n",
        "  def __init__(self):\n",
        "    super().__init__()\n",
        "    self.Matrix1 = nn.Linear(2,80)\n",
        "    self.Matrix2 = nn.Linear(80,1)\n",
        "    self.R = nn.ReLU()\n",
        "  def forward(self,x):\n",
        "    x = self.R(self.Matrix1(x))\n",
        "    x = self.Matrix2(x)\n",
        "    return x.squeeze()"
      ],
      "metadata": {
        "id": "c_x7tQ-Vwm2A"
      },
      "execution_count": 42,
      "outputs": []
    },
    {
      "cell_type": "code",
      "source": [
        "x = torch.tensor([[6,2],[5,2],[1,3],[7,6]]).float()\n",
        "y = torch.tensor([1,5,2,5]).float()\n",
        "f4 = MyNeuralNet4()\n",
        "\n",
        "# Train model\n",
        "f4, losses4 = train_model(x,y,f4, n_epochs=5000)"
      ],
      "metadata": {
        "id": "yc9Q-UXayG80"
      },
      "execution_count": 43,
      "outputs": []
    },
    {
      "cell_type": "code",
      "source": [
        "y"
      ],
      "metadata": {
        "colab": {
          "base_uri": "https://localhost:8080/"
        },
        "id": "kr8Gc1Ziydo4",
        "outputId": "a2868d3f-9391-4efc-c426-38fed3210d89"
      },
      "execution_count": 44,
      "outputs": [
        {
          "output_type": "execute_result",
          "data": {
            "text/plain": [
              "tensor([1., 5., 2., 5.])"
            ]
          },
          "metadata": {},
          "execution_count": 44
        }
      ]
    },
    {
      "cell_type": "code",
      "source": [
        "f4(x)"
      ],
      "metadata": {
        "colab": {
          "base_uri": "https://localhost:8080/"
        },
        "id": "tBlX4H8AyaV-",
        "outputId": "bc137da6-95ac-41fc-ff2b-c0b3b41a7cd1"
      },
      "execution_count": 45,
      "outputs": [
        {
          "output_type": "execute_result",
          "data": {
            "text/plain": [
              "tensor([1.5411, 4.3386, 2.0288, 5.0185], grad_fn=<SqueezeBackward0>)"
            ]
          },
          "metadata": {},
          "execution_count": 45
        }
      ]
    },
    {
      "cell_type": "markdown",
      "source": [
        "One last thing:\n",
        "What if we add another matrix in the middle?\n",
        "\n",
        "Previous model: $f_3(x) = A_2R(A_1x+b_1) + b_2 \\quad A_2$ is $1x80$ and $A_1$ is $80x2$\n",
        "\n",
        "New model: $f_3(x) = A_3R(A_2R(A_1x+b_1) + b_2) \\quad A_3$ is $1x80$ and $A_2$ is $80x80$ and $A_1$ is $80x2$"
      ],
      "metadata": {
        "id": "ampAQg4xzGDv"
      }
    },
    {
      "cell_type": "code",
      "source": [
        "class MyNeuralNet5(nn.Module):\n",
        "  def __init__(self):\n",
        "    super().__init__()\n",
        "    self.Matrix1 = nn.Linear(2,80)\n",
        "    self.Matrix2 = nn.Linear(80,80)\n",
        "    self.Matrix3 = nn.Linear(80,1)\n",
        "    self.R = nn.ReLU()\n",
        "  def forward(self,x):\n",
        "    x = self.R(self.Matrix1(x))\n",
        "    x = self.R(self.Matrix2(x))\n",
        "    x = self.Matrix3(x)\n",
        "    return x.squeeze()\n",
        "\n",
        "\n",
        "x = torch.tensor([[6,2],[5,2],[1,3],[7,6]]).float()\n",
        "y = torch.tensor([1,5,2,5]).float()\n",
        "f5 = MyNeuralNet5()\n",
        "\n",
        "opt = SGD(f5.parameters(), lr=0.001)\n",
        "L = nn.MSELoss()\n",
        "\n",
        "\n",
        "# train model\n",
        "f5, losses5 = train_model(x,y,f5, n_epochs=5000)"
      ],
      "metadata": {
        "id": "tpKSmBtPzhhB"
      },
      "execution_count": 46,
      "outputs": []
    },
    {
      "cell_type": "code",
      "source": [
        "y"
      ],
      "metadata": {
        "colab": {
          "base_uri": "https://localhost:8080/"
        },
        "id": "7BP72mId0U_4",
        "outputId": "15f91f75-760e-4d19-8d6c-c6493de76c5c"
      },
      "execution_count": 47,
      "outputs": [
        {
          "output_type": "execute_result",
          "data": {
            "text/plain": [
              "tensor([1., 5., 2., 5.])"
            ]
          },
          "metadata": {},
          "execution_count": 47
        }
      ]
    },
    {
      "cell_type": "code",
      "source": [
        "f5(x)"
      ],
      "metadata": {
        "colab": {
          "base_uri": "https://localhost:8080/"
        },
        "id": "_3N-vhL90Xj1",
        "outputId": "8fa87f94-21ed-4699-99f0-c279ac39e418"
      },
      "execution_count": 48,
      "outputs": [
        {
          "output_type": "execute_result",
          "data": {
            "text/plain": [
              "tensor([1.0091, 5.0002, 2.0021, 5.0094], grad_fn=<SqueezeBackward0>)"
            ]
          },
          "metadata": {},
          "execution_count": 48
        }
      ]
    },
    {
      "cell_type": "markdown",
      "source": [
        "# **The \"Sequential\" Neural Network**\n",
        "\n",
        "A general \"sequential\" neural network can be expressed as:\n",
        "\n",
        "![Screenshot 2025-11-01 at 12.01.36 AM.png](data:image/png;base64,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)"
      ],
      "metadata": {
        "id": "SHoODtXCN5kq"
      }
    },
    {
      "cell_type": "markdown",
      "source": [
        "Where $A_i$ are matrices and the $b_i$ are bias vectors of corresponding dimension. Typically the activation function $R_i$ are the same for all the layers (typically ReLU) except for the last layer, where $R_i$ is just the identity function (or no $R_i$).\n",
        "\n",
        "Note: In clever architectures, like convolutional neural networks, the $A_i$'s become sparse matrices (most of their parameters are fixed to equal zero)."
      ],
      "metadata": {
        "id": "wHGP_BKvOT4k"
      }
    }
  ]
}
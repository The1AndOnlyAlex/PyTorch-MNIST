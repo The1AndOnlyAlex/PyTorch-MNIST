{
  "nbformat": 4,
  "nbformat_minor": 0,
  "metadata": {
    "colab": {
      "provenance": [],
      "authorship_tag": "ABX9TyP4SVHYgpF+/QVlQRYGHGZG",
      "include_colab_link": true
    },
    "kernelspec": {
      "name": "python3",
      "display_name": "Python 3"
    },
    "language_info": {
      "name": "python"
    }
  },
  "cells": [
    {
      "cell_type": "markdown",
      "metadata": {
        "id": "view-in-github",
        "colab_type": "text"
      },
      "source": [
        "<a href=\"https://colab.research.google.com/github/The1AndOnlyAlex/PyTorch-MNIST/blob/main/pytorch2.ipynb\" target=\"_parent\"><img src=\"https://colab.research.google.com/assets/colab-badge.svg\" alt=\"Open In Colab\"/></a>"
      ]
    },
    {
      "cell_type": "code",
      "execution_count": 1,
      "metadata": {
        "id": "Qss1FsMpo-Rk"
      },
      "outputs": [],
      "source": [
        "import torch\n",
        "import torch.nn as nn\n",
        "from torch.optim import SGD\n",
        "import numpy as np\n",
        "import matplotlib.pyplot as plt"
      ]
    },
    {
      "cell_type": "code",
      "source": [
        "x = torch.tensor([[6,2],[5,2],[1,3],[7,6]]).float()\n",
        "y = torch.tensor([1,5,2,5]).float()"
      ],
      "metadata": {
        "id": "uW_dnNsLqrZY"
      },
      "execution_count": 2,
      "outputs": []
    },
    {
      "cell_type": "code",
      "source": [
        "x"
      ],
      "metadata": {
        "colab": {
          "base_uri": "https://localhost:8080/"
        },
        "id": "CgaTftPSq_bz",
        "outputId": "56575cb1-14f7-4977-ea88-8f2a17e98712"
      },
      "execution_count": 3,
      "outputs": [
        {
          "output_type": "execute_result",
          "data": {
            "text/plain": [
              "tensor([[6., 2.],\n",
              "        [5., 2.],\n",
              "        [1., 3.],\n",
              "        [7., 6.]])"
            ]
          },
          "metadata": {},
          "execution_count": 3
        }
      ]
    },
    {
      "cell_type": "code",
      "source": [
        "y"
      ],
      "metadata": {
        "colab": {
          "base_uri": "https://localhost:8080/"
        },
        "id": "OK6jQ1WdrC8_",
        "outputId": "29f09aa8-c971-4e36-e57d-fd631e5b6515"
      },
      "execution_count": 4,
      "outputs": [
        {
          "output_type": "execute_result",
          "data": {
            "text/plain": [
              "tensor([1., 5., 2., 5.])"
            ]
          },
          "metadata": {},
          "execution_count": 4
        }
      ]
    },
    {
      "cell_type": "markdown",
      "source": [
        "**Idea:**\n",
        "1. First multiply each element in x by a 8 x 2 matrix (this is 16 parameters $a_i$)\n",
        "2. Then multiply each element in x by a 1 x 8 matrix (this is 8 parameters $a_i$)\n",
        "\n",
        "**IMPORTANT:** When the matrix is created, it is initially created with random values!"
      ],
      "metadata": {
        "id": "aqjlG6TWrxZ3"
      }
    },
    {
      "cell_type": "code",
      "source": [
        "# Define a matrix (takes in 2d vector and returns an 8d vector)\n",
        "M1 = nn.Linear(2,8,bias=False) # bias False means only doing Ax instead of Ax+b\n",
        "M1"
      ],
      "metadata": {
        "colab": {
          "base_uri": "https://localhost:8080/"
        },
        "id": "mXM8Zx9ZrDZe",
        "outputId": "5fb64b46-b334-4976-a8cd-c32f0260bebe"
      },
      "execution_count": 5,
      "outputs": [
        {
          "output_type": "execute_result",
          "data": {
            "text/plain": [
              "Linear(in_features=2, out_features=8, bias=False)"
            ]
          },
          "metadata": {},
          "execution_count": 5
        }
      ]
    },
    {
      "cell_type": "code",
      "source": [
        "M1(x)"
      ],
      "metadata": {
        "colab": {
          "base_uri": "https://localhost:8080/"
        },
        "id": "JQBUYu-3tUTx",
        "outputId": "aea86a80-8890-4621-b0aa-b939659207f6"
      },
      "execution_count": 6,
      "outputs": [
        {
          "output_type": "execute_result",
          "data": {
            "text/plain": [
              "tensor([[ 3.7805,  0.0319, -1.0363, -3.0685, -2.5595,  2.6405, -1.0571,  1.8261],\n",
              "        [ 3.2811,  0.2069, -0.8992, -2.5808, -2.2330,  2.3934, -1.0899,  1.3063],\n",
              "        [ 1.6753,  1.4480, -0.4574, -0.7017, -1.2271,  1.9842, -1.8479, -1.4195],\n",
              "        [ 5.8478,  2.0209, -1.6005, -3.8415, -4.0868,  5.2037, -3.5318, -0.2398]],\n",
              "       grad_fn=<MmBackward0>)"
            ]
          },
          "metadata": {},
          "execution_count": 6
        }
      ]
    },
    {
      "cell_type": "code",
      "source": [
        "# Now we can chain this with a second matrix M2\n",
        "M2 = nn.Linear(8,1, bias=False)\n",
        "M2"
      ],
      "metadata": {
        "colab": {
          "base_uri": "https://localhost:8080/"
        },
        "id": "d8HzpLEUt3uf",
        "outputId": "2676cf58-6cd1-4cba-dc62-0cacb8052e61"
      },
      "execution_count": 7,
      "outputs": [
        {
          "output_type": "execute_result",
          "data": {
            "text/plain": [
              "Linear(in_features=8, out_features=1, bias=False)"
            ]
          },
          "metadata": {},
          "execution_count": 7
        }
      ]
    },
    {
      "cell_type": "code",
      "source": [
        "M2(M1(x))"
      ],
      "metadata": {
        "colab": {
          "base_uri": "https://localhost:8080/"
        },
        "id": "-tsZAU9BuaUb",
        "outputId": "c3137464-ccfd-4948-c252-d2463763800a"
      },
      "execution_count": 12,
      "outputs": [
        {
          "output_type": "execute_result",
          "data": {
            "text/plain": [
              "tensor([[-1.4002],\n",
              "        [-1.2498],\n",
              "        [-0.8974],\n",
              "        [-2.5466]], grad_fn=<MmBackward0>)"
            ]
          },
          "metadata": {},
          "execution_count": 12
        }
      ]
    },
    {
      "cell_type": "code",
      "source": [
        "M2(M1(x)).shape"
      ],
      "metadata": {
        "colab": {
          "base_uri": "https://localhost:8080/"
        },
        "id": "gQ6isIlsuARR",
        "outputId": "348d3850-ad4f-4226-d8a6-6661f110f2ff"
      },
      "execution_count": 10,
      "outputs": [
        {
          "output_type": "execute_result",
          "data": {
            "text/plain": [
              "torch.Size([4, 1])"
            ]
          },
          "metadata": {},
          "execution_count": 10
        }
      ]
    },
    {
      "cell_type": "code",
      "source": [
        "# We can squeeze out the extra 1 dimension since it's not needed\n",
        "M2(M1(x)).squeeze()"
      ],
      "metadata": {
        "colab": {
          "base_uri": "https://localhost:8080/"
        },
        "id": "J0l5z4kZuEho",
        "outputId": "5d5e4421-96ff-4249-96f5-c7ea67780105"
      },
      "execution_count": 11,
      "outputs": [
        {
          "output_type": "execute_result",
          "data": {
            "text/plain": [
              "tensor([-1.4002, -1.2498, -0.8974, -2.5466], grad_fn=<SqueezeBackward0>)"
            ]
          },
          "metadata": {},
          "execution_count": 11
        }
      ]
    },
    {
      "cell_type": "code",
      "source": [
        "# compare to the \"correct\" values\n",
        "y"
      ],
      "metadata": {
        "colab": {
          "base_uri": "https://localhost:8080/"
        },
        "id": "Ox0EW9n9uWyy",
        "outputId": "2baa940d-e2ac-4b8a-9c8e-d4483d7463a1"
      },
      "execution_count": 14,
      "outputs": [
        {
          "output_type": "execute_result",
          "data": {
            "text/plain": [
              "tensor([1., 5., 2., 5.])"
            ]
          },
          "metadata": {},
          "execution_count": 14
        }
      ]
    },
    {
      "cell_type": "markdown",
      "source": [
        "The weights of the matrices $M1$ and $M2$ constitute the weights $a$ of the network defined above. In order to optimize for these weights, we first construct our network $f$ as follows:"
      ],
      "metadata": {
        "id": "PRSPNTdMvPUp"
      }
    },
    {
      "cell_type": "code",
      "source": [
        "class MyNeuralNet(nn.Module):\n",
        "  def __init__(self):\n",
        "    super().__init__()\n",
        "    self.Matrix1 = nn.Linear(2,8,bias=False)\n",
        "    self.Matrix2 = nn.Linear(8,1,bias=False)\n",
        "  def forward(self,x):\n",
        "    x = self.Matrix1(x)\n",
        "    x = self.Matrix2(x)\n",
        "    return x.squeeze()"
      ],
      "metadata": {
        "id": "bavlaYl4uhut"
      },
      "execution_count": 15,
      "outputs": []
    },
    {
      "cell_type": "code",
      "source": [
        "f = MyNeuralNet()"
      ],
      "metadata": {
        "id": "qns4pdolv_6N"
      },
      "execution_count": 16,
      "outputs": []
    },
    {
      "cell_type": "code",
      "source": [
        "f(x)"
      ],
      "metadata": {
        "colab": {
          "base_uri": "https://localhost:8080/"
        },
        "id": "9Le9lL6TwGxa",
        "outputId": "2ee16bef-e5a1-408d-bfdc-7793f8b74168"
      },
      "execution_count": 17,
      "outputs": [
        {
          "output_type": "execute_result",
          "data": {
            "text/plain": [
              "tensor([-1.0487, -0.9494, -0.7791, -2.0544], grad_fn=<SqueezeBackward0>)"
            ]
          },
          "metadata": {},
          "execution_count": 17
        }
      ]
    },
    {
      "cell_type": "code",
      "source": [
        "# I can use the NeuralNet object to get the parameters:\n",
        "for par in f.parameters():\n",
        "  print(par)"
      ],
      "metadata": {
        "colab": {
          "base_uri": "https://localhost:8080/"
        },
        "id": "yuOtt-tywHYB",
        "outputId": "e38914b4-6ed3-4cf9-a330-e05fe89945b6"
      },
      "execution_count": 18,
      "outputs": [
        {
          "output_type": "stream",
          "name": "stdout",
          "text": [
            "Parameter containing:\n",
            "tensor([[ 0.4504,  0.3314],\n",
            "        [ 0.3711,  0.3263],\n",
            "        [ 0.1344,  0.6593],\n",
            "        [-0.3511,  0.1518],\n",
            "        [ 0.5777,  0.1766],\n",
            "        [ 0.0919, -0.5822],\n",
            "        [-0.0885, -0.2991],\n",
            "        [-0.4514, -0.3991]], requires_grad=True)\n",
            "Parameter containing:\n",
            "tensor([[-0.1940, -0.3147,  0.0507, -0.0823,  0.1479,  0.1296,  0.0287,  0.0568]],\n",
            "       requires_grad=True)\n"
          ]
        }
      ]
    },
    {
      "cell_type": "code",
      "source": [
        "yhat = f(x)\n",
        "yhat"
      ],
      "metadata": {
        "colab": {
          "base_uri": "https://localhost:8080/"
        },
        "id": "mCccEYstwWdS",
        "outputId": "64d36b70-7e42-46bc-9358-399b2a8e2a5c"
      },
      "execution_count": 19,
      "outputs": [
        {
          "output_type": "execute_result",
          "data": {
            "text/plain": [
              "tensor([-1.0487, -0.9494, -0.7791, -2.0544], grad_fn=<SqueezeBackward0>)"
            ]
          },
          "metadata": {},
          "execution_count": 19
        }
      ]
    },
    {
      "cell_type": "code",
      "source": [
        "y"
      ],
      "metadata": {
        "colab": {
          "base_uri": "https://localhost:8080/"
        },
        "id": "2vqvMoJFwhww",
        "outputId": "fc076c61-4236-42a6-e2bf-c4e1bbe14f76"
      },
      "execution_count": 20,
      "outputs": [
        {
          "output_type": "execute_result",
          "data": {
            "text/plain": [
              "tensor([1., 5., 2., 5.])"
            ]
          },
          "metadata": {},
          "execution_count": 20
        }
      ]
    },
    {
      "cell_type": "markdown",
      "source": [
        "# **Adjusting $a$ so that $ŷ$ and $y$ are similar**"
      ],
      "metadata": {
        "id": "AtkqhRn6wm94"
      }
    },
    {
      "cell_type": "code",
      "source": [
        "# Define a loss function\n",
        "L = nn.MSELoss()\n",
        "L(y,yhat)"
      ],
      "metadata": {
        "colab": {
          "base_uri": "https://localhost:8080/"
        },
        "id": "Zra_MgpGwjCX",
        "outputId": "4cde2c8f-9e52-4253-bfaa-33853f89b997"
      },
      "execution_count": 21,
      "outputs": [
        {
          "output_type": "execute_result",
          "data": {
            "text/plain": [
              "tensor(24.2701, grad_fn=<MseLossBackward0>)"
            ]
          },
          "metadata": {},
          "execution_count": 21
        }
      ]
    },
    {
      "cell_type": "code",
      "source": [
        "# Confirming it is doing the same as the regular mean-squared error:\n",
        "torch.mean((y-yhat)**2)"
      ],
      "metadata": {
        "colab": {
          "base_uri": "https://localhost:8080/"
        },
        "id": "Muyqmd7Ew4k-",
        "outputId": "b79895ab-9696-41a3-b4d2-7b7e621b3ee4"
      },
      "execution_count": 22,
      "outputs": [
        {
          "output_type": "execute_result",
          "data": {
            "text/plain": [
              "tensor(24.2701, grad_fn=<MeanBackward0>)"
            ]
          },
          "metadata": {},
          "execution_count": 22
        }
      ]
    },
    {
      "cell_type": "markdown",
      "source": [
        "Note that $L$ depends on $a$, since our predictions $ŷ$ depend on the parameters of the network $a$. In this sense, $L = L(a)$. **The main idea behind machine learning** is to compute\n",
        "\n",
        " $$ \\frac{d L}{{d}a_i} $$\n",
        "\n",
        "for each parameter $a_i$ of the network. Then we adjust each parameter as follows:\n",
        "\n",
        "$$ a_i \\rightarrow a_i - l\\frac{d L}{{d}a_i} $$\n",
        "\n",
        "where $ l $ is the learning rate.\n",
        "\n",
        "Example: A loss function that only depends on one parameter:"
      ],
      "metadata": {
        "id": "Y_XOiFF1zAPR"
      }
    },
    {
      "cell_type": "code",
      "source": [
        "# Keep adding/subtracting a_i\n",
        "# Do this over and over again, as it approaches the loss minimum\n",
        "# This is called gradient descent!\n",
        "# Each pass of the full data set x is called an Epoch\n",
        "# You can split the data set x into, say, 5 parts for example to reduce compute time\n",
        "# One full pass is considered going across and calculating loss across all 5 parts"
      ],
      "metadata": {
        "id": "5RoillA3w_-t"
      },
      "execution_count": 23,
      "outputs": []
    },
    {
      "cell_type": "code",
      "source": [
        "# The SGD (meaning stochastic gradient descent) takes in all model\n",
        "# parameters a along with the learning rate l\n",
        "\n",
        "opt = SGD(f.parameters(), lr=0.001)"
      ],
      "metadata": {
        "id": "XxDi9K_R3D1h"
      },
      "execution_count": 25,
      "outputs": []
    },
    {
      "cell_type": "markdown",
      "source": [
        "Adjust the parameters over and over:"
      ],
      "metadata": {
        "id": "3acEE-IZ3T8m"
      }
    },
    {
      "cell_type": "code",
      "source": [
        "losses = []\n",
        "for _ in range(50):\n",
        "  opt.zero_grad() # flush previous epoch's gradient\n",
        "  loss_value = L(f(x), y) # compute loss\n",
        "  loss_value.backward() # compute gradient\n",
        "  opt.step() # Perform iteration using gradient above\n",
        "  losses.append(loss_value.item())"
      ],
      "metadata": {
        "id": "hzQox-4a3VUJ"
      },
      "execution_count": 26,
      "outputs": []
    },
    {
      "cell_type": "markdown",
      "source": [
        "Plot $ L(a) $ as a function of number of iterations"
      ],
      "metadata": {
        "id": "c_PrGiOX39O1"
      }
    },
    {
      "cell_type": "code",
      "source": [
        "plt.plot(losses)\n",
        "plt.ylabel('Loss $L(y, \\hat{y};a)$')\n",
        "plt.xlabel('Epochs')"
      ],
      "metadata": {
        "colab": {
          "base_uri": "https://localhost:8080/",
          "height": 558
        },
        "id": "MzL3cO9D4J7C",
        "outputId": "d7c5f806-b059-46b3-cc24-18dbe93dfbf6"
      },
      "execution_count": 27,
      "outputs": [
        {
          "output_type": "stream",
          "name": "stderr",
          "text": [
            "<>:2: SyntaxWarning: invalid escape sequence '\\h'\n",
            "<>:2: SyntaxWarning: invalid escape sequence '\\h'\n",
            "/tmp/ipython-input-1394971893.py:2: SyntaxWarning: invalid escape sequence '\\h'\n",
            "  plt.ylabel('Loss $L(y, \\hat{y};a)$')\n"
          ]
        },
        {
          "output_type": "execute_result",
          "data": {
            "text/plain": [
              "Text(0.5, 0, 'Epochs')"
            ]
          },
          "metadata": {},
          "execution_count": 27
        },
        {
          "output_type": "display_data",
          "data": {
            "text/plain": [
              "<Figure size 640x480 with 1 Axes>"
            ],
            "image/png": "[encoded data removed]"
          },
          "metadata": {}
        }
      ]
    },
    {
      "cell_type": "markdown",
      "source": [
        "This is as close as we can make the model $f$ predict $y$ from $x$:"
      ],
      "metadata": {
        "id": "VifmkQrd4kS_"
      }
    },
    {
      "cell_type": "code",
      "source": [
        "f(x)"
      ],
      "metadata": {
        "colab": {
          "base_uri": "https://localhost:8080/"
        },
        "id": "sFY7wGhA4U1r",
        "outputId": "9077a855-e08c-4f61-b3d1-93a52ffd9862"
      },
      "execution_count": 28,
      "outputs": [
        {
          "output_type": "execute_result",
          "data": {
            "text/plain": [
              "tensor([3.1992, 2.7810, 1.4535, 4.9978], grad_fn=<SqueezeBackward0>)"
            ]
          },
          "metadata": {},
          "execution_count": 28
        }
      ]
    },
    {
      "cell_type": "code",
      "source": [
        "y"
      ],
      "metadata": {
        "colab": {
          "base_uri": "https://localhost:8080/"
        },
        "id": "v_rMhhL-4px4",
        "outputId": "93fd65a2-39de-4644-91af-d8b2f5fb1f31"
      },
      "execution_count": 29,
      "outputs": [
        {
          "output_type": "execute_result",
          "data": {
            "text/plain": [
              "tensor([1., 5., 2., 5.])"
            ]
          },
          "metadata": {},
          "execution_count": 29
        }
      ]
    },
    {
      "cell_type": "markdown",
      "source": [
        "And this is as close as we can get with a model using 2 matrices (2 layers)"
      ],
      "metadata": {
        "id": "lWfvgebB43tY"
      }
    }
  ]
}
{
  "nbformat": 4,
  "nbformat_minor": 0,
  "metadata": {
    "colab": {
      "provenance": [],
      "gpuType": "T4",
      "authorship_tag": "ABX9TyPG4v74ZONi/MfnX5nC8R7m",
      "include_colab_link": true
    },
    "kernelspec": {
      "name": "python3",
      "display_name": "Python 3"
    },
    "language_info": {
      "name": "python"
    },
    "accelerator": "GPU"
  },
  "cells": [
    {
      "cell_type": "markdown",
      "metadata": {
        "id": "view-in-github",
        "colab_type": "text"
      },
      "source": [
        "<a href=\"https://colab.research.google.com/github/The1AndOnlyAlex/PyTorch-MNIST/blob/main/pytorch1.ipynb\" target=\"_parent\"><img src=\"https://colab.research.google.com/assets/colab-badge.svg\" alt=\"Open In Colab\"/></a>"
      ]
    },
    {
      "cell_type": "code",
      "execution_count": 2,
      "metadata": {
        "id": "Y3o7678udL90"
      },
      "outputs": [],
      "source": [
        "import torch\n",
        "import torch.nn as nn\n",
        "import numpy as np\n",
        "import matplotlib.pyplot as plt\n",
        "import time"
      ]
    },
    {
      "cell_type": "markdown",
      "source": [
        "## **Tensors and Numpy Arrays**"
      ],
      "metadata": {
        "id": "vgYGYCrQobhW"
      }
    },
    {
      "cell_type": "code",
      "source": [
        "# Numpy vs Torch\n",
        "n = np.linspace(0,1,5)\n",
        "t = torch.linspace(0,1,5)"
      ],
      "metadata": {
        "id": "URoO6Q2lmYLu"
      },
      "execution_count": 4,
      "outputs": []
    },
    {
      "cell_type": "code",
      "source": [
        "# Resizing\n",
        "torch.arange(48)"
      ],
      "metadata": {
        "colab": {
          "base_uri": "https://localhost:8080/"
        },
        "id": "7YuKELGSnEk2",
        "outputId": "2298550a-9aea-4f16-8229-c40f23dd82c2"
      },
      "execution_count": 15,
      "outputs": [
        {
          "output_type": "execute_result",
          "data": {
            "text/plain": [
              "tensor([ 0,  1,  2,  3,  4,  5,  6,  7,  8,  9, 10, 11, 12, 13, 14, 15, 16, 17,\n",
              "        18, 19, 20, 21, 22, 23, 24, 25, 26, 27, 28, 29, 30, 31, 32, 33, 34, 35,\n",
              "        36, 37, 38, 39, 40, 41, 42, 43, 44, 45, 46, 47])"
            ]
          },
          "metadata": {},
          "execution_count": 15
        }
      ]
    },
    {
      "cell_type": "code",
      "source": [
        "t = torch.arange(48).reshape(3,4,4)\n",
        "t"
      ],
      "metadata": {
        "colab": {
          "base_uri": "https://localhost:8080/"
        },
        "id": "QWZQXfJLnUyx",
        "outputId": "1eacfe6b-e165-47c7-adb4-1acd6149cea6"
      },
      "execution_count": 16,
      "outputs": [
        {
          "output_type": "execute_result",
          "data": {
            "text/plain": [
              "tensor([[[ 0,  1,  2,  3],\n",
              "         [ 4,  5,  6,  7],\n",
              "         [ 8,  9, 10, 11],\n",
              "         [12, 13, 14, 15]],\n",
              "\n",
              "        [[16, 17, 18, 19],\n",
              "         [20, 21, 22, 23],\n",
              "         [24, 25, 26, 27],\n",
              "         [28, 29, 30, 31]],\n",
              "\n",
              "        [[32, 33, 34, 35],\n",
              "         [36, 37, 38, 39],\n",
              "         [40, 41, 42, 43],\n",
              "         [44, 45, 46, 47]]])"
            ]
          },
          "metadata": {},
          "execution_count": 16
        }
      ]
    },
    {
      "cell_type": "markdown",
      "source": [
        "## **General Broadcasting Rules**"
      ],
      "metadata": {
        "id": "HYy7vLQtn46y"
      }
    },
    {
      "cell_type": "code",
      "source": [
        "a = np.array([1,2])\n",
        "b = np.array([3,4])\n",
        "a*b"
      ],
      "metadata": {
        "colab": {
          "base_uri": "https://localhost:8080/"
        },
        "id": "WtrJzu7Smyzq",
        "outputId": "3adc4c59-da28-4e1f-b0a6-51c1e84f4e8d"
      },
      "execution_count": 4,
      "outputs": [
        {
          "output_type": "execute_result",
          "data": {
            "text/plain": [
              "array([3, 8])"
            ]
          },
          "metadata": {},
          "execution_count": 4
        }
      ]
    },
    {
      "cell_type": "markdown",
      "source": [
        "When operating on two arrays, NumPy compares their shapes element-wise. Starting with the trailing (rightmost) dimensions and working its way left.\n",
        "\n",
        "Two dimensions are compatible when:\n",
        "1. they are equal, or\n",
        "2. one of them is 1\n",
        "\n",
        "ex. These two shapes are compatible:\n",
        "\n",
        "Shape 1: (1,6,4,1,7,2)\n",
        "\n",
        "Shape 2: (5,6,1,3,1,2)"
      ],
      "metadata": {
        "id": "GdfvaX8pNwqO"
      }
    },
    {
      "cell_type": "code",
      "source": [
        "a = torch.ones((6,5))\n",
        "b = torch.arange(5).reshape((1,5))\n",
        "a+b"
      ],
      "metadata": {
        "colab": {
          "base_uri": "https://localhost:8080/"
        },
        "id": "RlXvYHu9N5a7",
        "outputId": "8f41c5dd-df57-423e-c8e8-85d22762bd70"
      },
      "execution_count": 5,
      "outputs": [
        {
          "output_type": "execute_result",
          "data": {
            "text/plain": [
              "tensor([[1., 2., 3., 4., 5.],\n",
              "        [1., 2., 3., 4., 5.],\n",
              "        [1., 2., 3., 4., 5.],\n",
              "        [1., 2., 3., 4., 5.],\n",
              "        [1., 2., 3., 4., 5.],\n",
              "        [1., 2., 3., 4., 5.]])"
            ]
          },
          "metadata": {},
          "execution_count": 5
        }
      ]
    },
    {
      "cell_type": "code",
      "source": [
        "# Scaling an image\n",
        "Image = torch.randn((256,256,3))\n",
        "Scale = torch.tensor([0.5,1.5,1])\n",
        "\n",
        "Result = Image*Scale\n",
        "Result"
      ],
      "metadata": {
        "colab": {
          "base_uri": "https://localhost:8080/"
        },
        "id": "qgzxs5UcGDAx",
        "outputId": "7414cf30-756e-4b27-861e-456465be7814"
      },
      "execution_count": 4,
      "outputs": [
        {
          "output_type": "execute_result",
          "data": {
            "text/plain": [
              "tensor([[[ 1.5260e-01,  2.8262e-01, -5.1125e-01],\n",
              "         [ 2.1666e-01, -5.3111e-02,  5.3918e-01],\n",
              "         [-5.7866e-01,  1.0442e+00,  1.3581e+00],\n",
              "         ...,\n",
              "         [ 6.0683e-01, -1.0575e+00,  7.9136e-01],\n",
              "         [-6.3966e-01, -1.9801e+00, -7.4135e-01],\n",
              "         [-2.5494e-01, -1.7491e+00,  4.0271e-03]],\n",
              "\n",
              "        [[-2.8846e-02, -1.9216e+00, -2.5000e-01],\n",
              "         [ 4.5896e-01, -1.9274e-01, -1.7969e+00],\n",
              "         [ 7.6994e-01, -1.8882e-01, -8.0327e-01],\n",
              "         ...,\n",
              "         [-2.5037e-01, -6.3744e-01,  1.5131e+00],\n",
              "         [ 6.2855e-01,  4.2123e-01,  1.8648e+00],\n",
              "         [ 2.1093e-01,  1.5544e+00, -2.1796e-01]],\n",
              "\n",
              "        [[ 3.3062e-01, -9.5185e-01,  1.5588e+00],\n",
              "         [ 8.5951e-01, -2.9838e-01,  1.6548e-01],\n",
              "         [ 8.5340e-01, -8.2403e-01,  4.5089e-01],\n",
              "         ...,\n",
              "         [-2.3632e-02,  7.1747e-01,  4.6145e-01],\n",
              "         [-2.9514e-01,  1.5115e+00,  7.9702e-01],\n",
              "         [ 2.8225e-01, -1.0264e+00, -4.6705e-01]],\n",
              "\n",
              "        ...,\n",
              "\n",
              "        [[-2.2848e-01, -1.5899e+00,  5.4881e-01],\n",
              "         [-8.7020e-02, -1.4564e+00,  1.4079e-02],\n",
              "         [ 3.1699e-01,  1.4949e+00, -4.5373e-01],\n",
              "         ...,\n",
              "         [ 7.9824e-02, -1.5904e+00,  1.2073e-01],\n",
              "         [-4.7134e-01,  4.1369e-01, -1.3312e+00],\n",
              "         [-2.3439e-01,  7.8989e-01, -1.8022e+00]],\n",
              "\n",
              "        [[ 5.8980e-02, -2.1159e+00,  2.1678e+00],\n",
              "         [ 2.4205e-01, -2.8791e+00,  7.1862e-01],\n",
              "         [ 3.1936e-01,  1.2001e+00, -4.9001e-01],\n",
              "         ...,\n",
              "         [-7.1880e-01,  8.5154e-01, -1.1870e-02],\n",
              "         [ 5.8597e-01, -3.2644e+00,  9.0550e-01],\n",
              "         [-8.9899e-01,  1.8516e+00, -2.6414e-01]],\n",
              "\n",
              "        [[ 1.9165e-01, -8.1093e-02,  9.6835e-01],\n",
              "         [-5.2447e-01, -4.0066e-01,  2.0343e-01],\n",
              "         [ 2.4259e-01,  1.1677e+00, -1.3572e+00],\n",
              "         ...,\n",
              "         [-1.0319e-01, -9.2898e-01, -4.8623e-01],\n",
              "         [-3.5932e-01,  3.3914e-01, -2.8422e-03],\n",
              "         [-2.6898e-01,  1.0406e+00, -3.9777e-01]]])"
            ]
          },
          "metadata": {},
          "execution_count": 4
        }
      ]
    },
    {
      "cell_type": "code",
      "source": [
        "# Example: An array of 2 256x256 images with color channels\n",
        "# Images (4d array): 2 x 256 x 256 x 3\n",
        "# Scales (4d array): 2 x 1 x 1 x 3\n",
        "# Results (4d array): 2 x 256 x 256 x 3\n",
        "\n",
        "Images = torch.randn((2,256,256,3))\n",
        "Scales = torch.tensor([0.5,1.5,1,1.5,1,0.5]).reshape(2,1,1,3)"
      ],
      "metadata": {
        "id": "SFbJxMiBGc2C"
      },
      "execution_count": 5,
      "outputs": []
    },
    {
      "cell_type": "markdown",
      "source": [
        "## **Operations Across Dimensions**"
      ],
      "metadata": {
        "id": "9UQp4LnvG8Zv"
      }
    },
    {
      "cell_type": "code",
      "source": [
        "# Simple operations can be done on 1 dimensional tensors:\n",
        "\n",
        "t = torch.tensor([0.5,1,3,4])\n",
        "torch.mean(t), torch.std(t), torch.max(t), torch.min(t)"
      ],
      "metadata": {
        "colab": {
          "base_uri": "https://localhost:8080/"
        },
        "id": "gh2udfcRHAF5",
        "outputId": "64780533-3707-4589-f08e-88c2d1b725e6"
      },
      "execution_count": 7,
      "outputs": [
        {
          "output_type": "execute_result",
          "data": {
            "text/plain": [
              "(tensor(2.1250), tensor(1.6520), tensor(4.), tensor(0.5000))"
            ]
          },
          "metadata": {},
          "execution_count": 7
        }
      ]
    },
    {
      "cell_type": "code",
      "source": [
        "# But we can do that with a higher dimension tensors (2d tensor too) for example\n",
        "t = torch.arange(20, dtype=float).reshape(5,4)\n",
        "t"
      ],
      "metadata": {
        "colab": {
          "base_uri": "https://localhost:8080/"
        },
        "id": "kPBDVc1IHVw9",
        "outputId": "41aff43a-6316-4254-da0e-33b064f166eb"
      },
      "execution_count": 9,
      "outputs": [
        {
          "output_type": "execute_result",
          "data": {
            "text/plain": [
              "tensor([[ 0.,  1.,  2.,  3.],\n",
              "        [ 4.,  5.,  6.,  7.],\n",
              "        [ 8.,  9., 10., 11.],\n",
              "        [12., 13., 14., 15.],\n",
              "        [16., 17., 18., 19.]], dtype=torch.float64)"
            ]
          },
          "metadata": {},
          "execution_count": 9
        }
      ]
    },
    {
      "cell_type": "code",
      "source": [
        "torch.mean(t, axis=0)"
      ],
      "metadata": {
        "colab": {
          "base_uri": "https://localhost:8080/"
        },
        "id": "BAnxEW38HmU2",
        "outputId": "76cfd10b-5d76-489d-dece-e15c32657aaf"
      },
      "execution_count": 10,
      "outputs": [
        {
          "output_type": "execute_result",
          "data": {
            "text/plain": [
              "tensor([ 8.,  9., 10., 11.], dtype=torch.float64)"
            ]
          },
          "metadata": {},
          "execution_count": 10
        }
      ]
    },
    {
      "cell_type": "code",
      "source": [
        "# Even higher dimensionality arrays!\n",
        "\n",
        "t = torch.randn(5,256,256,3)"
      ],
      "metadata": {
        "id": "J2vV5CydHta9"
      },
      "execution_count": 13,
      "outputs": []
    },
    {
      "cell_type": "code",
      "source": [
        "# Taking the mean across batch (size 5)\n",
        "torch.mean(t, axis=0).shape"
      ],
      "metadata": {
        "colab": {
          "base_uri": "https://localhost:8080/"
        },
        "id": "ZHdiaOytH4mR",
        "outputId": "19bfc7f9-592b-45b6-8fc9-cc17d6b5030b"
      },
      "execution_count": 17,
      "outputs": [
        {
          "output_type": "execute_result",
          "data": {
            "text/plain": [
              "torch.Size([256, 256, 3])"
            ]
          },
          "metadata": {},
          "execution_count": 17
        }
      ]
    },
    {
      "cell_type": "code",
      "source": [
        "# Taking the mean across color channels (RGB)\n",
        "torch.mean(t, axis=-1).shape\n",
        "# NOTE: -1 means the last dimension in the tensor, -2 means second to last..."
      ],
      "metadata": {
        "colab": {
          "base_uri": "https://localhost:8080/"
        },
        "id": "_XlV_U4FH2DC",
        "outputId": "4d5f49a3-e8e9-4d72-f196-898d20808481"
      },
      "execution_count": 18,
      "outputs": [
        {
          "output_type": "execute_result",
          "data": {
            "text/plain": [
              "torch.Size([5, 256, 256])"
            ]
          },
          "metadata": {},
          "execution_count": 18
        }
      ]
    },
    {
      "cell_type": "code",
      "source": [
        "# Useful method: .max to take the maximum of the color channel values\n",
        "# AND corresponding indices\n",
        "\n",
        "values, indices = torch.max(t,axis=-1)"
      ],
      "metadata": {
        "id": "mHSisvhwIWV7"
      },
      "execution_count": 19,
      "outputs": []
    },
    {
      "cell_type": "code",
      "source": [
        "values.shape"
      ],
      "metadata": {
        "colab": {
          "base_uri": "https://localhost:8080/"
        },
        "id": "JND_sPegIgsp",
        "outputId": "02f1e219-256e-4761-e308-78897dc83520"
      },
      "execution_count": 22,
      "outputs": [
        {
          "output_type": "execute_result",
          "data": {
            "text/plain": [
              "torch.Size([5, 256, 256])"
            ]
          },
          "metadata": {},
          "execution_count": 22
        }
      ]
    },
    {
      "cell_type": "code",
      "source": [
        "indices"
      ],
      "metadata": {
        "colab": {
          "base_uri": "https://localhost:8080/"
        },
        "id": "6HL9BdSdIi9K",
        "outputId": "fb8d1bba-0554-432b-acb1-49966a394a0b"
      },
      "execution_count": 21,
      "outputs": [
        {
          "output_type": "execute_result",
          "data": {
            "text/plain": [
              "tensor([[[0, 1, 2,  ..., 2, 2, 0],\n",
              "         [0, 2, 0,  ..., 2, 1, 1],\n",
              "         [0, 1, 1,  ..., 2, 0, 2],\n",
              "         ...,\n",
              "         [2, 2, 0,  ..., 1, 0, 1],\n",
              "         [2, 2, 0,  ..., 0, 0, 2],\n",
              "         [2, 0, 2,  ..., 0, 1, 0]],\n",
              "\n",
              "        [[0, 2, 2,  ..., 1, 2, 2],\n",
              "         [1, 0, 0,  ..., 1, 1, 0],\n",
              "         [2, 1, 0,  ..., 0, 1, 2],\n",
              "         ...,\n",
              "         [2, 1, 1,  ..., 2, 1, 1],\n",
              "         [2, 0, 2,  ..., 1, 1, 2],\n",
              "         [0, 2, 0,  ..., 2, 2, 1]],\n",
              "\n",
              "        [[1, 2, 1,  ..., 1, 1, 1],\n",
              "         [2, 2, 1,  ..., 0, 1, 2],\n",
              "         [0, 1, 0,  ..., 1, 0, 2],\n",
              "         ...,\n",
              "         [1, 1, 2,  ..., 2, 2, 1],\n",
              "         [2, 1, 1,  ..., 1, 0, 0],\n",
              "         [1, 0, 1,  ..., 1, 0, 1]],\n",
              "\n",
              "        [[0, 2, 1,  ..., 0, 2, 0],\n",
              "         [2, 1, 0,  ..., 0, 1, 1],\n",
              "         [2, 2, 1,  ..., 2, 0, 0],\n",
              "         ...,\n",
              "         [0, 1, 2,  ..., 2, 2, 0],\n",
              "         [0, 2, 1,  ..., 2, 1, 2],\n",
              "         [2, 2, 1,  ..., 0, 2, 1]],\n",
              "\n",
              "        [[2, 0, 2,  ..., 1, 1, 2],\n",
              "         [0, 2, 1,  ..., 2, 2, 1],\n",
              "         [0, 1, 1,  ..., 2, 0, 0],\n",
              "         ...,\n",
              "         [2, 1, 2,  ..., 0, 2, 0],\n",
              "         [0, 0, 2,  ..., 2, 1, 2],\n",
              "         [1, 2, 1,  ..., 1, 2, 2]]])"
            ]
          },
          "metadata": {},
          "execution_count": 21
        }
      ]
    },
    {
      "cell_type": "markdown",
      "source": [
        "## **Difference between NumPy and PyTorch**"
      ],
      "metadata": {
        "id": "xLGizUByIzkD"
      }
    },
    {
      "cell_type": "code",
      "source": [
        "# PyTorch automatically computs the gradients of operations done to a tensor\n",
        "\n",
        "x = torch.tensor([[5.,8.],[4.,6.]], requires_grad=True)\n",
        "y = x.pow(3).sum()\n",
        "y"
      ],
      "metadata": {
        "colab": {
          "base_uri": "https://localhost:8080/"
        },
        "id": "1MrouS8EI343",
        "outputId": "bfb2d1bd-a5c4-4468-a61f-33b129171c87"
      },
      "execution_count": 23,
      "outputs": [
        {
          "output_type": "execute_result",
          "data": {
            "text/plain": [
              "tensor(917., grad_fn=<SumBackward0>)"
            ]
          },
          "metadata": {},
          "execution_count": 23
        }
      ]
    },
    {
      "cell_type": "code",
      "source": [
        "# Compute the gradient:\n",
        "y.backward() # compute the gradient\n",
        "x.grad # print the gradient (everything that has happened to x)"
      ],
      "metadata": {
        "colab": {
          "base_uri": "https://localhost:8080/"
        },
        "id": "wk0XLjfvMA9K",
        "outputId": "b99c2afc-01a5-49b8-d49d-6248a023358c"
      },
      "execution_count": 24,
      "outputs": [
        {
          "output_type": "execute_result",
          "data": {
            "text/plain": [
              "tensor([[ 75., 192.],\n",
              "        [ 48., 108.]])"
            ]
          },
          "metadata": {},
          "execution_count": 24
        }
      ]
    },
    {
      "cell_type": "code",
      "source": [
        "# Compare and verify\n",
        "3*x**2"
      ],
      "metadata": {
        "colab": {
          "base_uri": "https://localhost:8080/"
        },
        "id": "gAGeEU9GMKQf",
        "outputId": "d066cf39-9cef-4e6f-92b9-190d1222294f"
      },
      "execution_count": 25,
      "outputs": [
        {
          "output_type": "execute_result",
          "data": {
            "text/plain": [
              "tensor([[ 75., 192.],\n",
              "        [ 48., 108.]], grad_fn=<MulBackward0>)"
            ]
          },
          "metadata": {},
          "execution_count": 25
        }
      ]
    },
    {
      "cell_type": "markdown",
      "source": [
        "When changing weights (x), how does it affect the results of the outputs (y)? Using the gradients kept track by PyTorch, you can see exactly how the outputs are affected by changing a parameter by a given amount"
      ],
      "metadata": {
        "id": "6gu30EyjMWQq"
      }
    },
    {
      "cell_type": "markdown",
      "source": [
        "### Additionally, PyTorch computes matrix multiplication problems faster, especially if you're running on a GPU"
      ],
      "metadata": {
        "id": "tOkLX3_WMnoJ"
      }
    },
    {
      "cell_type": "markdown",
      "source": [
        "Using PyTorch:"
      ],
      "metadata": {
        "id": "ZWpmORTiNBNX"
      }
    },
    {
      "cell_type": "code",
      "source": [
        "A = torch.randn((1000,1000)).cuda() # Added .cuda() to show an even bigger difference\n",
        "B = torch.randn((1000,1000)).cuda() # Which means its using the GPU"
      ],
      "metadata": {
        "id": "yjGrG6XuMwcI"
      },
      "execution_count": 58,
      "outputs": []
    },
    {
      "cell_type": "code",
      "source": [
        "t1 = time.perf_counter()\n",
        "torch.matmul(A,B)\n",
        "t2 = time.perf_counter()\n",
        "print(t2-t1)"
      ],
      "metadata": {
        "colab": {
          "base_uri": "https://localhost:8080/"
        },
        "id": "Kpe8Hk5JM1Eg",
        "outputId": "0e1eec21-b5d1-43bd-f4e8-6e89fc418ad6"
      },
      "execution_count": 59,
      "outputs": [
        {
          "output_type": "stream",
          "name": "stdout",
          "text": [
            "0.0006265770002755744\n"
          ]
        }
      ]
    },
    {
      "cell_type": "markdown",
      "source": [
        "Using NumPy:"
      ],
      "metadata": {
        "id": "gpKgyJ6UM-9y"
      }
    },
    {
      "cell_type": "code",
      "source": [
        "A = np.random.randn(int(1e6)).reshape((1000,1000))\n",
        "B = np.random.randn(int(1e6)).reshape((1000,1000))"
      ],
      "metadata": {
        "id": "HyoqgKKbM9mV"
      },
      "execution_count": 60,
      "outputs": []
    },
    {
      "cell_type": "code",
      "source": [
        "t1 = time.perf_counter()\n",
        "A@B\n",
        "t2 = time.perf_counter()\n",
        "print(t2-t1)"
      ],
      "metadata": {
        "colab": {
          "base_uri": "https://localhost:8080/"
        },
        "id": "djVVNO22NMOW",
        "outputId": "6b7452dc-b1d3-4b67-b641-973619083d1e"
      },
      "execution_count": 61,
      "outputs": [
        {
          "output_type": "stream",
          "name": "stdout",
          "text": [
            "0.05138796600022033\n"
          ]
        }
      ]
    },
    {
      "cell_type": "markdown",
      "source": [
        "However, nothing is free. PyTorch tensors take up a little more memory than NumPy arrays on your computer.\n",
        "\n",
        "PyTorch = Faster Operations >> But tradeoff being that it takes up more memory on PC"
      ],
      "metadata": {
        "id": "9dva6PeSOTm_"
      }
    }
  ]
}